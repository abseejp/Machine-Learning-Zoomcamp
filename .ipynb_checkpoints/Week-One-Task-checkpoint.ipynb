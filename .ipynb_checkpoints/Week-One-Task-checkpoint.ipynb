{
 "cells": [
  {
   "cell_type": "markdown",
   "id": "22590deb-d93d-4ff9-b692-1d4bd9993823",
   "metadata": {},
   "source": [
    "#### Import Libraries"
   ]
  },
  {
   "cell_type": "code",
   "execution_count": 1,
   "id": "467983ef-cf20-4d5a-bda3-4bcc2f295b22",
   "metadata": {},
   "outputs": [],
   "source": [
    "import pandas as pd\n",
    "import numpy as np"
   ]
  },
  {
   "cell_type": "markdown",
   "id": "d4160f34-ab67-4b1a-863b-cee974a3e009",
   "metadata": {},
   "source": [
    "#### Q1: What's the version of NumPy that you installed?"
   ]
  },
  {
   "cell_type": "code",
   "execution_count": 2,
   "id": "5089b1a4-fe57-4d6b-8d01-412198444027",
   "metadata": {},
   "outputs": [
    {
     "data": {
      "text/plain": [
       "'1.21.5'"
      ]
     },
     "execution_count": 2,
     "metadata": {},
     "output_type": "execute_result"
    }
   ],
   "source": [
    "np.__version__"
   ]
  },
  {
   "cell_type": "markdown",
   "id": "58fd3ce0-0640-4b81-b635-07eb0f5deb04",
   "metadata": {},
   "source": [
    "#### Read in data"
   ]
  },
  {
   "cell_type": "code",
   "execution_count": 3,
   "id": "f3f1003f-1f0a-4ebf-8fe1-17d11bc80f78",
   "metadata": {},
   "outputs": [],
   "source": [
    "df = pd.read_csv(\"https://raw.githubusercontent.com/alexeygrigorev/mlbookcamp-code/master/chapter-02-car-price/data.csv\")"
   ]
  },
  {
   "cell_type": "code",
   "execution_count": 4,
   "id": "631b707b-9766-4754-a457-39aebcd77f14",
   "metadata": {},
   "outputs": [
    {
     "data": {
      "text/html": [
       "<div>\n",
       "<style scoped>\n",
       "    .dataframe tbody tr th:only-of-type {\n",
       "        vertical-align: middle;\n",
       "    }\n",
       "\n",
       "    .dataframe tbody tr th {\n",
       "        vertical-align: top;\n",
       "    }\n",
       "\n",
       "    .dataframe thead th {\n",
       "        text-align: right;\n",
       "    }\n",
       "</style>\n",
       "<table border=\"1\" class=\"dataframe\">\n",
       "  <thead>\n",
       "    <tr style=\"text-align: right;\">\n",
       "      <th></th>\n",
       "      <th>Make</th>\n",
       "      <th>Model</th>\n",
       "      <th>Year</th>\n",
       "      <th>Engine Fuel Type</th>\n",
       "      <th>Engine HP</th>\n",
       "      <th>Engine Cylinders</th>\n",
       "      <th>Transmission Type</th>\n",
       "      <th>Driven_Wheels</th>\n",
       "      <th>Number of Doors</th>\n",
       "      <th>Market Category</th>\n",
       "      <th>Vehicle Size</th>\n",
       "      <th>Vehicle Style</th>\n",
       "      <th>highway MPG</th>\n",
       "      <th>city mpg</th>\n",
       "      <th>Popularity</th>\n",
       "      <th>MSRP</th>\n",
       "    </tr>\n",
       "  </thead>\n",
       "  <tbody>\n",
       "    <tr>\n",
       "      <th>0</th>\n",
       "      <td>BMW</td>\n",
       "      <td>1 Series M</td>\n",
       "      <td>2011</td>\n",
       "      <td>premium unleaded (required)</td>\n",
       "      <td>335.0</td>\n",
       "      <td>6.0</td>\n",
       "      <td>MANUAL</td>\n",
       "      <td>rear wheel drive</td>\n",
       "      <td>2.0</td>\n",
       "      <td>Factory Tuner,Luxury,High-Performance</td>\n",
       "      <td>Compact</td>\n",
       "      <td>Coupe</td>\n",
       "      <td>26</td>\n",
       "      <td>19</td>\n",
       "      <td>3916</td>\n",
       "      <td>46135</td>\n",
       "    </tr>\n",
       "    <tr>\n",
       "      <th>1</th>\n",
       "      <td>BMW</td>\n",
       "      <td>1 Series</td>\n",
       "      <td>2011</td>\n",
       "      <td>premium unleaded (required)</td>\n",
       "      <td>300.0</td>\n",
       "      <td>6.0</td>\n",
       "      <td>MANUAL</td>\n",
       "      <td>rear wheel drive</td>\n",
       "      <td>2.0</td>\n",
       "      <td>Luxury,Performance</td>\n",
       "      <td>Compact</td>\n",
       "      <td>Convertible</td>\n",
       "      <td>28</td>\n",
       "      <td>19</td>\n",
       "      <td>3916</td>\n",
       "      <td>40650</td>\n",
       "    </tr>\n",
       "  </tbody>\n",
       "</table>\n",
       "</div>"
      ],
      "text/plain": [
       "  Make       Model  Year             Engine Fuel Type  Engine HP  \\\n",
       "0  BMW  1 Series M  2011  premium unleaded (required)      335.0   \n",
       "1  BMW    1 Series  2011  premium unleaded (required)      300.0   \n",
       "\n",
       "   Engine Cylinders Transmission Type     Driven_Wheels  Number of Doors  \\\n",
       "0               6.0            MANUAL  rear wheel drive              2.0   \n",
       "1               6.0            MANUAL  rear wheel drive              2.0   \n",
       "\n",
       "                         Market Category Vehicle Size Vehicle Style  \\\n",
       "0  Factory Tuner,Luxury,High-Performance      Compact         Coupe   \n",
       "1                     Luxury,Performance      Compact   Convertible   \n",
       "\n",
       "   highway MPG  city mpg  Popularity   MSRP  \n",
       "0           26        19        3916  46135  \n",
       "1           28        19        3916  40650  "
      ]
     },
     "execution_count": 4,
     "metadata": {},
     "output_type": "execute_result"
    }
   ],
   "source": [
    "df.head(2)"
   ]
  },
  {
   "cell_type": "markdown",
   "id": "0f08a731-376b-42cd-89a9-34ecb71f3908",
   "metadata": {},
   "source": [
    "#### Q2: How many records are in the dataset?"
   ]
  },
  {
   "cell_type": "code",
   "execution_count": 5,
   "id": "753da33b-d5b6-48f1-bb50-4399c3b61ac3",
   "metadata": {},
   "outputs": [
    {
     "data": {
      "text/plain": [
       "(11914, 16)"
      ]
     },
     "execution_count": 5,
     "metadata": {},
     "output_type": "execute_result"
    }
   ],
   "source": [
    "df.shape"
   ]
  },
  {
   "cell_type": "markdown",
   "id": "fbb0a52f-f1b0-4d24-bfc6-e5ab3955e25a",
   "metadata": {},
   "source": [
    "#### Q3: Who are the most frequent car manufacturers (top-3) according to the dataset?"
   ]
  },
  {
   "cell_type": "code",
   "execution_count": 6,
   "id": "1ecbde7f-4de4-48bc-b846-9717a23fe5bd",
   "metadata": {},
   "outputs": [
    {
     "data": {
      "text/plain": [
       "Chevrolet     1123\n",
       "Ford           881\n",
       "Volkswagen     809\n",
       "Name: Make, dtype: int64"
      ]
     },
     "execution_count": 6,
     "metadata": {},
     "output_type": "execute_result"
    }
   ],
   "source": [
    "df['Make'].value_counts().head(n = 3)"
   ]
  },
  {
   "cell_type": "markdown",
   "id": "282aa9be-f3b7-407b-b779-6c0b9924073c",
   "metadata": {},
   "source": [
    "#### Q4: What's the number of unique Audi car models in the dataset?"
   ]
  },
  {
   "cell_type": "code",
   "execution_count": 7,
   "id": "b38ffdfd-f2b5-4559-8da4-b39256be7883",
   "metadata": {},
   "outputs": [
    {
     "data": {
      "text/plain": [
       "34"
      ]
     },
     "execution_count": 7,
     "metadata": {},
     "output_type": "execute_result"
    }
   ],
   "source": [
    "df[df['Make'] == \"Audi\"]['Model'].nunique()"
   ]
  },
  {
   "cell_type": "markdown",
   "id": "2e211e55-cb25-49d6-9500-bb5e28712ae0",
   "metadata": {},
   "source": [
    "#### Q5: How many columns in the dataset have missing values?"
   ]
  },
  {
   "cell_type": "code",
   "execution_count": 8,
   "id": "97c9f329-9543-416d-b6ed-90ea4a9d3935",
   "metadata": {},
   "outputs": [
    {
     "name": "stdout",
     "output_type": "stream",
     "text": [
      "Engine Fuel Type       3\n",
      "Engine HP             69\n",
      "Engine Cylinders      30\n",
      "Number of Doors        6\n",
      "Market Category     3742\n",
      "dtype: int64 number of columns with missing values is 5\n"
     ]
    }
   ],
   "source": [
    "print(df.isnull().sum()[df.isnull().sum() >= 1], \n",
    "      'number of columns with missing values is', df.isnull().sum()[df.isnull().sum() >= 1].shape[0])"
   ]
  },
  {
   "cell_type": "markdown",
   "id": "804af304-42b1-4cf8-8c80-fbb86b5c265f",
   "metadata": {},
   "source": [
    "#### Q6"
   ]
  },
  {
   "cell_type": "markdown",
   "id": "8d4c2d00-4277-4857-9198-39e62bdf5372",
   "metadata": {},
   "source": [
    "#### 1. Find the median value of \"Engine Cylinders\" column in the dataset."
   ]
  },
  {
   "cell_type": "code",
   "execution_count": 9,
   "id": "2827aafa-c844-4209-a392-fd353b2731de",
   "metadata": {},
   "outputs": [
    {
     "data": {
      "text/plain": [
       "6.0"
      ]
     },
     "execution_count": 9,
     "metadata": {},
     "output_type": "execute_result"
    }
   ],
   "source": [
    "median_value = df['Engine Cylinders'].median()\n",
    "median_value"
   ]
  },
  {
   "cell_type": "markdown",
   "id": "b2406894-a783-47b4-96ea-7121f0e6ae9c",
   "metadata": {},
   "source": [
    "#### 2. Next, calculate the most frequent value of the same \"Engine Cylinders\"."
   ]
  },
  {
   "cell_type": "code",
   "execution_count": 10,
   "id": "b3893258-141c-48a6-a9aa-64b553eb06e1",
   "metadata": {},
   "outputs": [
    {
     "data": {
      "text/plain": [
       "0    4.0\n",
       "Name: Engine Cylinders, dtype: float64"
      ]
     },
     "execution_count": 10,
     "metadata": {},
     "output_type": "execute_result"
    }
   ],
   "source": [
    "modal_value = df['Engine Cylinders'].mode()\n",
    "modal_value"
   ]
  },
  {
   "cell_type": "markdown",
   "id": "43f44fe7-af62-4e34-b27f-6c8e2ef09d73",
   "metadata": {},
   "source": [
    "#### 3. Use the fillna method to fill the missing values in \"Engine Cylinders\" with the most frequent value from the previous step."
   ]
  },
  {
   "cell_type": "code",
   "execution_count": 11,
   "id": "b78ac32e-f796-43b7-a62d-63db37977a74",
   "metadata": {},
   "outputs": [],
   "source": [
    "df['Engine Cylinders'].fillna(modal_value, inplace=True)"
   ]
  },
  {
   "cell_type": "markdown",
   "id": "ac206a63-ece6-449a-ba7b-8b433d244487",
   "metadata": {},
   "source": [
    "#### 4. Now, calculate the median value of \"Engine Cylinders\" once again."
   ]
  },
  {
   "cell_type": "code",
   "execution_count": 12,
   "id": "4ec722b5-268b-4426-9639-d445ac5f8174",
   "metadata": {},
   "outputs": [
    {
     "data": {
      "text/plain": [
       "6.0"
      ]
     },
     "execution_count": 12,
     "metadata": {},
     "output_type": "execute_result"
    }
   ],
   "source": [
    "df['Engine Cylinders'].median()"
   ]
  },
  {
   "cell_type": "markdown",
   "id": "cfd297be-7d95-4019-b499-840ffe2df68d",
   "metadata": {},
   "source": [
    "#### Q7"
   ]
  },
  {
   "cell_type": "code",
   "execution_count": 13,
   "id": "3c9a196e-6295-400d-85da-979f722092be",
   "metadata": {},
   "outputs": [
    {
     "data": {
      "text/plain": [
       "(29, 16)"
      ]
     },
     "execution_count": 13,
     "metadata": {},
     "output_type": "execute_result"
    }
   ],
   "source": [
    "lotus_cars = df[df['Make'].str.lower() == 'lotus']\n",
    "lotus_cars.shape"
   ]
  },
  {
   "cell_type": "code",
   "execution_count": 14,
   "id": "92bae22f-c858-41f1-9a02-10383f81280c",
   "metadata": {},
   "outputs": [
    {
     "data": {
      "text/html": [
       "<div>\n",
       "<style scoped>\n",
       "    .dataframe tbody tr th:only-of-type {\n",
       "        vertical-align: middle;\n",
       "    }\n",
       "\n",
       "    .dataframe tbody tr th {\n",
       "        vertical-align: top;\n",
       "    }\n",
       "\n",
       "    .dataframe thead th {\n",
       "        text-align: right;\n",
       "    }\n",
       "</style>\n",
       "<table border=\"1\" class=\"dataframe\">\n",
       "  <thead>\n",
       "    <tr style=\"text-align: right;\">\n",
       "      <th></th>\n",
       "      <th>Make</th>\n",
       "      <th>Model</th>\n",
       "      <th>Year</th>\n",
       "      <th>Engine Fuel Type</th>\n",
       "      <th>Engine HP</th>\n",
       "      <th>Engine Cylinders</th>\n",
       "      <th>Transmission Type</th>\n",
       "      <th>Driven_Wheels</th>\n",
       "      <th>Number of Doors</th>\n",
       "      <th>Market Category</th>\n",
       "      <th>Vehicle Size</th>\n",
       "      <th>Vehicle Style</th>\n",
       "      <th>highway MPG</th>\n",
       "      <th>city mpg</th>\n",
       "      <th>Popularity</th>\n",
       "      <th>MSRP</th>\n",
       "    </tr>\n",
       "  </thead>\n",
       "  <tbody>\n",
       "    <tr>\n",
       "      <th>3912</th>\n",
       "      <td>Lotus</td>\n",
       "      <td>Elise</td>\n",
       "      <td>2009</td>\n",
       "      <td>premium unleaded (required)</td>\n",
       "      <td>189.0</td>\n",
       "      <td>4.0</td>\n",
       "      <td>MANUAL</td>\n",
       "      <td>rear wheel drive</td>\n",
       "      <td>2.0</td>\n",
       "      <td>Exotic,High-Performance</td>\n",
       "      <td>Compact</td>\n",
       "      <td>Convertible</td>\n",
       "      <td>27</td>\n",
       "      <td>21</td>\n",
       "      <td>613</td>\n",
       "      <td>43995</td>\n",
       "    </tr>\n",
       "    <tr>\n",
       "      <th>3913</th>\n",
       "      <td>Lotus</td>\n",
       "      <td>Elise</td>\n",
       "      <td>2009</td>\n",
       "      <td>premium unleaded (required)</td>\n",
       "      <td>218.0</td>\n",
       "      <td>4.0</td>\n",
       "      <td>MANUAL</td>\n",
       "      <td>rear wheel drive</td>\n",
       "      <td>2.0</td>\n",
       "      <td>Exotic,High-Performance</td>\n",
       "      <td>Compact</td>\n",
       "      <td>Convertible</td>\n",
       "      <td>26</td>\n",
       "      <td>20</td>\n",
       "      <td>613</td>\n",
       "      <td>54990</td>\n",
       "    </tr>\n",
       "    <tr>\n",
       "      <th>3914</th>\n",
       "      <td>Lotus</td>\n",
       "      <td>Elise</td>\n",
       "      <td>2009</td>\n",
       "      <td>premium unleaded (required)</td>\n",
       "      <td>189.0</td>\n",
       "      <td>4.0</td>\n",
       "      <td>MANUAL</td>\n",
       "      <td>rear wheel drive</td>\n",
       "      <td>2.0</td>\n",
       "      <td>Exotic,High-Performance</td>\n",
       "      <td>Compact</td>\n",
       "      <td>Convertible</td>\n",
       "      <td>27</td>\n",
       "      <td>21</td>\n",
       "      <td>613</td>\n",
       "      <td>47250</td>\n",
       "    </tr>\n",
       "  </tbody>\n",
       "</table>\n",
       "</div>"
      ],
      "text/plain": [
       "       Make  Model  Year             Engine Fuel Type  Engine HP  \\\n",
       "3912  Lotus  Elise  2009  premium unleaded (required)      189.0   \n",
       "3913  Lotus  Elise  2009  premium unleaded (required)      218.0   \n",
       "3914  Lotus  Elise  2009  premium unleaded (required)      189.0   \n",
       "\n",
       "      Engine Cylinders Transmission Type     Driven_Wheels  Number of Doors  \\\n",
       "3912               4.0            MANUAL  rear wheel drive              2.0   \n",
       "3913               4.0            MANUAL  rear wheel drive              2.0   \n",
       "3914               4.0            MANUAL  rear wheel drive              2.0   \n",
       "\n",
       "              Market Category Vehicle Size Vehicle Style  highway MPG  \\\n",
       "3912  Exotic,High-Performance      Compact   Convertible           27   \n",
       "3913  Exotic,High-Performance      Compact   Convertible           26   \n",
       "3914  Exotic,High-Performance      Compact   Convertible           27   \n",
       "\n",
       "      city mpg  Popularity   MSRP  \n",
       "3912        21         613  43995  \n",
       "3913        20         613  54990  \n",
       "3914        21         613  47250  "
      ]
     },
     "execution_count": 14,
     "metadata": {},
     "output_type": "execute_result"
    }
   ],
   "source": [
    "lotus_cars.head(3)"
   ]
  },
  {
   "cell_type": "code",
   "execution_count": 15,
   "id": "e7c1e581-4d4e-4d3e-bdd4-51ecaf4c6e84",
   "metadata": {},
   "outputs": [],
   "source": [
    "X = lotus_cars[[\"Engine HP\", \"Engine Cylinders\"]].drop_duplicates().values"
   ]
  },
  {
   "cell_type": "code",
   "execution_count": 16,
   "id": "fbd0f821-c5c1-4784-ba56-1a9b22112a0e",
   "metadata": {},
   "outputs": [
    {
     "name": "stdout",
     "output_type": "stream",
     "text": [
      "[[189. 218. 217. 350. 400. 276. 345. 257. 240.]\n",
      " [  4.   4.   4.   8.   6.   6.   6.   4.   4.]] \n",
      " \n",
      " [[189.   4.]\n",
      " [218.   4.]\n",
      " [217.   4.]\n",
      " [350.   8.]\n",
      " [400.   6.]\n",
      " [276.   6.]\n",
      " [345.   6.]\n",
      " [257.   4.]\n",
      " [240.   4.]]\n"
     ]
    }
   ],
   "source": [
    "print(X.T,'\\n','\\n',X)"
   ]
  },
  {
   "cell_type": "code",
   "execution_count": 17,
   "id": "b4aaf919-bd59-4019-a671-de11a4c91026",
   "metadata": {},
   "outputs": [
    {
     "data": {
      "text/plain": [
       "array([[7.31684e+05, 1.34100e+04],\n",
       "       [1.34100e+04, 2.52000e+02]])"
      ]
     },
     "execution_count": 17,
     "metadata": {},
     "output_type": "execute_result"
    }
   ],
   "source": [
    "#### Compute matrix-matrix multiplication between the transpose of X and X. To get the transpose, use X.T. Let's call the result XTX.\n",
    "XTX = X.T.dot(X)\n",
    "XTX"
   ]
  },
  {
   "cell_type": "code",
   "execution_count": 18,
   "id": "cbf620ca-3894-49fd-acc5-ca84c0b1ac5f",
   "metadata": {},
   "outputs": [
    {
     "data": {
      "text/plain": [
       "array([[ 5.53084235e-05, -2.94319825e-03],\n",
       "       [-2.94319825e-03,  1.60588447e-01]])"
      ]
     },
     "execution_count": 18,
     "metadata": {},
     "output_type": "execute_result"
    }
   ],
   "source": [
    "#### Invert XTX\n",
    "XTX_inverse = np.linalg.inv(XTX)\n",
    "XTX_inverse"
   ]
  },
  {
   "cell_type": "code",
   "execution_count": 19,
   "id": "24c54822-7d49-432a-a8d5-e22dfde86e40",
   "metadata": {},
   "outputs": [
    {
     "data": {
      "text/plain": [
       "array([[1, 0],\n",
       "       [0, 1]])"
      ]
     },
     "execution_count": 19,
     "metadata": {},
     "output_type": "execute_result"
    }
   ],
   "source": [
    "#### confirm dot product\n",
    "np.around(XTX.dot(XTX_inverse)).astype(int)"
   ]
  },
  {
   "cell_type": "code",
   "execution_count": 20,
   "id": "a048d89d-250f-4560-ad13-04779704eccf",
   "metadata": {},
   "outputs": [],
   "source": [
    "## Create an array y with values [1100, 800, 750, 850, 1300, 1000, 1000, 1300, 800].\n",
    "y = np.array([1100, 800, 750, 850, 1300, 1000, 1000, 1300, 800])"
   ]
  },
  {
   "cell_type": "code",
   "execution_count": 21,
   "id": "e4002728-26fb-468b-a495-fd2ca6a7df31",
   "metadata": {},
   "outputs": [
    {
     "data": {
      "text/plain": [
       "array([[ 5.53084235e-05, -2.94319825e-03],\n",
       "       [-2.94319825e-03,  1.60588447e-01]])"
      ]
     },
     "execution_count": 21,
     "metadata": {},
     "output_type": "execute_result"
    }
   ],
   "source": [
    "XTX_inverse"
   ]
  },
  {
   "cell_type": "code",
   "execution_count": 22,
   "id": "67c31af0-d23d-4e80-9925-c9c053a3a9be",
   "metadata": {},
   "outputs": [
    {
     "data": {
      "text/plain": [
       "array([  4.59494481, -63.56432501])"
      ]
     },
     "execution_count": 22,
     "metadata": {},
     "output_type": "execute_result"
    }
   ],
   "source": [
    "w = y.dot(X.dot(XTX_inverse))\n",
    "w"
   ]
  }
 ],
 "metadata": {
  "kernelspec": {
   "display_name": "Python 3 (ipykernel)",
   "language": "python",
   "name": "python3"
  },
  "language_info": {
   "codemirror_mode": {
    "name": "ipython",
    "version": 3
   },
   "file_extension": ".py",
   "mimetype": "text/x-python",
   "name": "python",
   "nbconvert_exporter": "python",
   "pygments_lexer": "ipython3",
   "version": "3.9.12"
  }
 },
 "nbformat": 4,
 "nbformat_minor": 5
}
