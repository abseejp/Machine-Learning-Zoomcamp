{
 "cells": [
  {
   "cell_type": "markdown",
   "id": "0add4661",
   "metadata": {},
   "source": [
    "#### Import Libraries "
   ]
  },
  {
   "cell_type": "code",
   "execution_count": 1,
   "id": "7d6f5a23",
   "metadata": {},
   "outputs": [],
   "source": [
    "import pandas as pd\n",
    "import numpy as np\n",
    "import matplotlib.pyplot as plt\n",
    "import seaborn as sns"
   ]
  },
  {
   "cell_type": "markdown",
   "id": "ab72f9cc",
   "metadata": {},
   "source": [
    "#### Get Data"
   ]
  },
  {
   "cell_type": "code",
   "execution_count": 2,
   "id": "ec608751",
   "metadata": {},
   "outputs": [],
   "source": [
    "df = pd.read_csv('https://raw.githubusercontent.com/alexeygrigorev/datasets/master/AER_credit_card_data.csv')"
   ]
  },
  {
   "cell_type": "code",
   "execution_count": 3,
   "id": "ad5c05e9",
   "metadata": {},
   "outputs": [
    {
     "data": {
      "text/html": [
       "<div>\n",
       "<style scoped>\n",
       "    .dataframe tbody tr th:only-of-type {\n",
       "        vertical-align: middle;\n",
       "    }\n",
       "\n",
       "    .dataframe tbody tr th {\n",
       "        vertical-align: top;\n",
       "    }\n",
       "\n",
       "    .dataframe thead th {\n",
       "        text-align: right;\n",
       "    }\n",
       "</style>\n",
       "<table border=\"1\" class=\"dataframe\">\n",
       "  <thead>\n",
       "    <tr style=\"text-align: right;\">\n",
       "      <th></th>\n",
       "      <th>card</th>\n",
       "      <th>reports</th>\n",
       "      <th>age</th>\n",
       "      <th>income</th>\n",
       "      <th>share</th>\n",
       "      <th>expenditure</th>\n",
       "      <th>owner</th>\n",
       "      <th>selfemp</th>\n",
       "      <th>dependents</th>\n",
       "      <th>months</th>\n",
       "      <th>majorcards</th>\n",
       "      <th>active</th>\n",
       "    </tr>\n",
       "  </thead>\n",
       "  <tbody>\n",
       "    <tr>\n",
       "      <th>0</th>\n",
       "      <td>yes</td>\n",
       "      <td>0</td>\n",
       "      <td>37.66667</td>\n",
       "      <td>4.52</td>\n",
       "      <td>0.033270</td>\n",
       "      <td>124.983300</td>\n",
       "      <td>yes</td>\n",
       "      <td>no</td>\n",
       "      <td>3</td>\n",
       "      <td>54</td>\n",
       "      <td>1</td>\n",
       "      <td>12</td>\n",
       "    </tr>\n",
       "    <tr>\n",
       "      <th>1</th>\n",
       "      <td>yes</td>\n",
       "      <td>0</td>\n",
       "      <td>33.25000</td>\n",
       "      <td>2.42</td>\n",
       "      <td>0.005217</td>\n",
       "      <td>9.854167</td>\n",
       "      <td>no</td>\n",
       "      <td>no</td>\n",
       "      <td>3</td>\n",
       "      <td>34</td>\n",
       "      <td>1</td>\n",
       "      <td>13</td>\n",
       "    </tr>\n",
       "  </tbody>\n",
       "</table>\n",
       "</div>"
      ],
      "text/plain": [
       "  card  reports       age  income     share  expenditure owner selfemp  \\\n",
       "0  yes        0  37.66667    4.52  0.033270   124.983300   yes      no   \n",
       "1  yes        0  33.25000    2.42  0.005217     9.854167    no      no   \n",
       "\n",
       "   dependents  months  majorcards  active  \n",
       "0           3      54           1      12  \n",
       "1           3      34           1      13  "
      ]
     },
     "execution_count": 3,
     "metadata": {},
     "output_type": "execute_result"
    }
   ],
   "source": [
    "df.head(2)"
   ]
  },
  {
   "cell_type": "code",
   "execution_count": 4,
   "id": "e1023437",
   "metadata": {},
   "outputs": [
    {
     "data": {
      "text/plain": [
       "(1319, 12)"
      ]
     },
     "execution_count": 4,
     "metadata": {},
     "output_type": "execute_result"
    }
   ],
   "source": [
    "df.shape"
   ]
  },
  {
   "cell_type": "markdown",
   "id": "ba30fcf6",
   "metadata": {},
   "source": [
    "#### Preparation\n",
    "- Create the target variable by mapping yes to 1 and no to 0.\n",
    "- Split the dataset into 3 parts: train/validation/test with 60%/20%/20% distribution. Use train_test_split funciton for that with random_state=1."
   ]
  },
  {
   "cell_type": "code",
   "execution_count": 5,
   "id": "88336c04",
   "metadata": {},
   "outputs": [],
   "source": [
    "df['card'] = df['card'].apply(lambda x: 1 if x == 'yes' else 0)"
   ]
  },
  {
   "cell_type": "code",
   "execution_count": 6,
   "id": "7f41811d",
   "metadata": {},
   "outputs": [],
   "source": [
    "from sklearn.model_selection import train_test_split"
   ]
  },
  {
   "cell_type": "code",
   "execution_count": 7,
   "id": "664095ae",
   "metadata": {},
   "outputs": [],
   "source": [
    "df_train_full, df_test = train_test_split(df, test_size=0.2, random_state=1)\n",
    "df_train, df_val = train_test_split(df_train_full, test_size=0.25, random_state=1)"
   ]
  },
  {
   "cell_type": "code",
   "execution_count": 8,
   "id": "7cd4050a",
   "metadata": {},
   "outputs": [
    {
     "data": {
      "text/plain": [
       "((1055, 12), (264, 12), (791, 12), (264, 12))"
      ]
     },
     "execution_count": 8,
     "metadata": {},
     "output_type": "execute_result"
    }
   ],
   "source": [
    "df_train_full.shape, df_test.shape, df_train.shape, df_val.shape"
   ]
  },
  {
   "cell_type": "markdown",
   "id": "14e795ec",
   "metadata": {},
   "source": [
    "#### Question 1\n",
    "- ROC AUC could also be used to evaluate feature importance of numerical variables.\n",
    "\n",
    "- Let's do that\n",
    "\n",
    "- For each numerical variable, use it as score and compute AUC with the card variable.\n",
    "- Use the training dataset for that.\n",
    "- If your AUC is < 0.5, invert this variable by putting \"-\" in front"
   ]
  },
  {
   "cell_type": "code",
   "execution_count": 9,
   "id": "edae060b",
   "metadata": {},
   "outputs": [
    {
     "data": {
      "text/plain": [
       "[['roc score for card is', 1.0],\n",
       " ['roc score for reports is', 0.28219862090829834],\n",
       " ['roc score for age is', 0.4986245409632507],\n",
       " ['roc score for income is', 0.5888896594541755],\n",
       " ['roc score for share is', 0.9898054212570342],\n",
       " ['roc score for expenditure is', 0.9897360703812317],\n",
       " ['roc score for dependents is', 0.4742278935827323],\n",
       " ['roc score for months is', 0.48211738131092974],\n",
       " ['roc score for majorcards is', 0.5499111648305197],\n",
       " ['roc score for active is', 0.5824680985971309]]"
      ]
     },
     "execution_count": 9,
     "metadata": {},
     "output_type": "execute_result"
    }
   ],
   "source": [
    "from sklearn.metrics import roc_auc_score\n",
    "\n",
    "result = []\n",
    "numeric_columns = df.dtypes[df.dtypes != 'object'].index.values\n",
    "\n",
    "for column in numeric_columns:\n",
    "    score = roc_auc_score(df['card'], df[column])\n",
    "    if score < 0.5:\n",
    "        df[column] = df[column] * -1\n",
    "    result.append([f'roc score for {column} is', score])\n",
    "result"
   ]
  },
  {
   "cell_type": "markdown",
   "id": "a62fc30d",
   "metadata": {},
   "source": [
    "#### Training the model\n"
   ]
  },
  {
   "cell_type": "code",
   "execution_count": 10,
   "id": "22a1e7e5",
   "metadata": {},
   "outputs": [],
   "source": [
    "X_train = df_train[[\"reports\", \"age\", \"income\", \"share\", \"expenditure\", \"dependents\", \"months\", \"majorcards\", \"active\", \"owner\", \"selfemp\"]]\n",
    "y_train = df_train['card']\n",
    "\n",
    "X_val = df_val[[\"reports\", \"age\", \"income\", \"share\", \"expenditure\", \"dependents\", \"months\", \"majorcards\", \"active\", \"owner\", \"selfemp\"]]\n",
    "y_val = df_val['card']\n",
    "\n",
    "X_test = df_test[[\"reports\", \"age\", \"income\", \"share\", \"expenditure\", \"dependents\", \"months\", \"majorcards\", \"active\", \"owner\", \"selfemp\"]]\n",
    "y_test = df_test['card']\n",
    "\n",
    "\n",
    "\n",
    "X_train = pd.get_dummies(X_train, drop_first=True)\n",
    "X_val = pd.get_dummies(X_val, drop_first=True)\n",
    "X_test = pd.get_dummies(X_test, drop_first=True)\n"
   ]
  },
  {
   "cell_type": "markdown",
   "id": "b8867c75",
   "metadata": {},
   "source": [
    "#### Question 2\n",
    "- What's the AUC of this model on the validation dataset? (round to 3 digits)\n",
    "\n"
   ]
  },
  {
   "cell_type": "code",
   "execution_count": 11,
   "id": "3aed1763",
   "metadata": {},
   "outputs": [
    {
     "data": {
      "text/plain": [
       "LogisticRegression(max_iter=1000, solver='liblinear')"
      ]
     },
     "execution_count": 11,
     "metadata": {},
     "output_type": "execute_result"
    }
   ],
   "source": [
    "from sklearn.linear_model import LogisticRegression\n",
    "model = LogisticRegression(solver='liblinear', C=1.0, max_iter=1000)\n",
    "model.fit(X_train, y_train)"
   ]
  },
  {
   "cell_type": "code",
   "execution_count": 12,
   "id": "bc44f6a1",
   "metadata": {},
   "outputs": [
    {
     "data": {
      "text/plain": [
       "0.997"
      ]
     },
     "execution_count": 12,
     "metadata": {},
     "output_type": "execute_result"
    }
   ],
   "source": [
    "from sklearn.metrics import roc_auc_score\n",
    "train_predictions = model.predict_proba(X_train)[:, 1]\n",
    "round(roc_auc_score(y_train, train_predictions),3)"
   ]
  },
  {
   "cell_type": "code",
   "execution_count": 13,
   "id": "e521c32a",
   "metadata": {},
   "outputs": [
    {
     "data": {
      "text/plain": [
       "0.995"
      ]
     },
     "execution_count": 13,
     "metadata": {},
     "output_type": "execute_result"
    }
   ],
   "source": [
    "validation_predictions = model.predict_proba(X_val)[:, 1]\n",
    "round(roc_auc_score(y_val, validation_predictions),3)"
   ]
  },
  {
   "cell_type": "code",
   "execution_count": 14,
   "id": "5b1e4ccf",
   "metadata": {},
   "outputs": [
    {
     "data": {
      "text/plain": [
       "0.996"
      ]
     },
     "execution_count": 14,
     "metadata": {},
     "output_type": "execute_result"
    }
   ],
   "source": [
    "test_predictions = model.predict_proba(X_test)[:, 1]\n",
    "round(roc_auc_score(y_test, test_predictions),3)"
   ]
  },
  {
   "cell_type": "markdown",
   "id": "32734654",
   "metadata": {},
   "source": [
    "#### Question 3\n",
    "- Now let's compute precision and recall for our model.\n",
    "\n",
    "- Evaluate the model on all thresholds from 0.0 to 1.0 with step 0.01\n",
    "- For each threshold, compute precision and recall\n",
    "- Plot them"
   ]
  },
  {
   "cell_type": "code",
   "execution_count": 15,
   "id": "581dafd4",
   "metadata": {},
   "outputs": [],
   "source": [
    "# precision --> TP / TP + FP\n",
    "# recall --> TP / TP + FN"
   ]
  },
  {
   "cell_type": "code",
   "execution_count": 16,
   "id": "f4c34099",
   "metadata": {},
   "outputs": [],
   "source": [
    "actual_positive = (y_val == 1)\n",
    "actual_negative = (y_val == 0)"
   ]
  },
  {
   "cell_type": "code",
   "execution_count": 17,
   "id": "a278eb91",
   "metadata": {},
   "outputs": [
    {
     "data": {
      "text/plain": [
       "1081    False\n",
       "479      True\n",
       "317     False\n",
       "1103     True\n",
       "1179    False\n",
       "        ...  \n",
       "1256    False\n",
       "168     False\n",
       "882     False\n",
       "233     False\n",
       "704     False\n",
       "Name: card, Length: 264, dtype: bool"
      ]
     },
     "execution_count": 17,
     "metadata": {},
     "output_type": "execute_result"
    }
   ],
   "source": [
    "y_val == 0"
   ]
  },
  {
   "cell_type": "code",
   "execution_count": 18,
   "id": "68def5c3",
   "metadata": {},
   "outputs": [],
   "source": [
    "t = 0.5\n",
    "predict_positive = (validation_predictions >= t)\n",
    "predict_negative = (validation_predictions < t)"
   ]
  },
  {
   "cell_type": "code",
   "execution_count": 19,
   "id": "fa013206",
   "metadata": {},
   "outputs": [
    {
     "name": "stdout",
     "output_type": "stream",
     "text": [
      "204 1 52 7\n"
     ]
    }
   ],
   "source": [
    "TP = (predict_positive & actual_positive).sum()  # predict positive when actual is positive\n",
    "FP = (predict_positive & actual_negative).sum()  # predict positive when actual is negative..\n",
    "TN = (predict_negative & actual_negative).sum()  # predict negative when actual is negative\n",
    "FN = (predict_negative & actual_positive).sum()  # predict negative when actual is positive\n",
    "print(TP,FP, TN, FN)"
   ]
  },
  {
   "cell_type": "code",
   "execution_count": 37,
   "id": "bbd29c73",
   "metadata": {},
   "outputs": [],
   "source": [
    "thresholds = np.linspace(0, 1, 101, endpoint=False)\n",
    "precision_list, recall_list,F1_score_list, threshold_list= [[] for i in range(4)]\n",
    "scores = []\n",
    "for t in thresholds:\n",
    "    actual_positive = (y_val == 1)\n",
    "    actual_negative = (y_val == 0)\n",
    "    \n",
    "    predict_positive = (validation_predictions >= t)\n",
    "    predict_negative = (validation_predictions < t)\n",
    "    \n",
    "    TP = (predict_positive & actual_positive).sum()\n",
    "    FP = (predict_positive & actual_negative).sum()\n",
    "    TN = (predict_negative & actual_negative).sum()\n",
    "    FN = (predict_negative & actual_positive).sum()\n",
    "    \n",
    "    precision = TP / (TP + FP)\n",
    "    recall = TP / (TP + FN)\n",
    "    F1_score = 2 * precision * recall / (precision + recall)\n",
    "    \n",
    "    scores.append((t, TP, FP, TN, FN))\n",
    "    \n",
    "    columns = ['threshold', 'tp', 'fp', 'tn', 'fn']\n",
    "    df_scores = pd.DataFrame(scores, columns=columns)\n",
    "    df_scores.threshold = np.round(df_scores.threshold, 2)\n",
    "    df_scores['precision'] = df_scores['tp'] / (df_scores.tp + df_scores.fp)\n",
    "    df_scores['recall'] = df_scores['tp'] / (df_scores.tp + df_scores.fn)\n",
    "    df_scores['f1_score'] = 2 * df_scores.precision * df_scores.recall / (df_scores.precision + df_scores.recall)\n",
    "\n",
    "    \n",
    "\n",
    "    \n",
    "#     precision_list.append(precision)\n",
    "#     recall_list.append(recall)\n",
    "#     F1_score_list.append(F1_score)\n",
    "#     threshold_list.append(t)\n",
    " "
   ]
  },
  {
   "cell_type": "code",
   "execution_count": 38,
   "id": "d3939d49",
   "metadata": {},
   "outputs": [
    {
     "data": {
      "image/png": "[encoded data removed]",
      "text/plain": [
       "<Figure size 1440x504 with 1 Axes>"
      ]
     },
     "metadata": {
      "needs_background": "light"
     },
     "output_type": "display_data"
    }
   ],
   "source": [
    "plt.figure(figsize = (20,7))\n",
    "plt.xlabel('threshold')\n",
    "plt.ylabel('precison/recall value')\n",
    "plt.xticks([0, 0.1, 0.2, 0.3, 0.4, .5, .6, .7, .8, .9, 1.0, 1.1])\n",
    "plt.title('precision and recall curve')\n",
    "plt.plot(df_scores.threshold, df_scores.precision,  color='green', label = 'precision')\n",
    "plt.plot(df_scores.threshold, df_scores.recall, label = 'recall')\n",
    "\n",
    "\n",
    "\n",
    "plt.legend()\n",
    "plt.show()"
   ]
  },
  {
   "cell_type": "code",
   "execution_count": 39,
   "id": "b14a9b86",
   "metadata": {},
   "outputs": [
    {
     "data": {
      "text/html": [
       "<div>\n",
       "<style scoped>\n",
       "    .dataframe tbody tr th:only-of-type {\n",
       "        vertical-align: middle;\n",
       "    }\n",
       "\n",
       "    .dataframe tbody tr th {\n",
       "        vertical-align: top;\n",
       "    }\n",
       "\n",
       "    .dataframe thead th {\n",
       "        text-align: right;\n",
       "    }\n",
       "</style>\n",
       "<table border=\"1\" class=\"dataframe\">\n",
       "  <thead>\n",
       "    <tr style=\"text-align: right;\">\n",
       "      <th></th>\n",
       "      <th>threshold</th>\n",
       "      <th>tp</th>\n",
       "      <th>fp</th>\n",
       "      <th>tn</th>\n",
       "      <th>fn</th>\n",
       "      <th>precision</th>\n",
       "      <th>recall</th>\n",
       "      <th>f1_score</th>\n",
       "    </tr>\n",
       "  </thead>\n",
       "  <tbody>\n",
       "    <tr>\n",
       "      <th>22</th>\n",
       "      <td>0.22</td>\n",
       "      <td>205</td>\n",
       "      <td>6</td>\n",
       "      <td>47</td>\n",
       "      <td>6</td>\n",
       "      <td>0.971564</td>\n",
       "      <td>0.971564</td>\n",
       "      <td>0.971564</td>\n",
       "    </tr>\n",
       "    <tr>\n",
       "      <th>23</th>\n",
       "      <td>0.23</td>\n",
       "      <td>205</td>\n",
       "      <td>6</td>\n",
       "      <td>47</td>\n",
       "      <td>6</td>\n",
       "      <td>0.971564</td>\n",
       "      <td>0.971564</td>\n",
       "      <td>0.971564</td>\n",
       "    </tr>\n",
       "    <tr>\n",
       "      <th>24</th>\n",
       "      <td>0.24</td>\n",
       "      <td>205</td>\n",
       "      <td>6</td>\n",
       "      <td>47</td>\n",
       "      <td>6</td>\n",
       "      <td>0.971564</td>\n",
       "      <td>0.971564</td>\n",
       "      <td>0.971564</td>\n",
       "    </tr>\n",
       "    <tr>\n",
       "      <th>25</th>\n",
       "      <td>0.25</td>\n",
       "      <td>205</td>\n",
       "      <td>6</td>\n",
       "      <td>47</td>\n",
       "      <td>6</td>\n",
       "      <td>0.971564</td>\n",
       "      <td>0.971564</td>\n",
       "      <td>0.971564</td>\n",
       "    </tr>\n",
       "    <tr>\n",
       "      <th>26</th>\n",
       "      <td>0.26</td>\n",
       "      <td>205</td>\n",
       "      <td>6</td>\n",
       "      <td>47</td>\n",
       "      <td>6</td>\n",
       "      <td>0.971564</td>\n",
       "      <td>0.971564</td>\n",
       "      <td>0.971564</td>\n",
       "    </tr>\n",
       "  </tbody>\n",
       "</table>\n",
       "</div>"
      ],
      "text/plain": [
       "    threshold   tp  fp  tn  fn  precision    recall  f1_score\n",
       "22       0.22  205   6  47   6   0.971564  0.971564  0.971564\n",
       "23       0.23  205   6  47   6   0.971564  0.971564  0.971564\n",
       "24       0.24  205   6  47   6   0.971564  0.971564  0.971564\n",
       "25       0.25  205   6  47   6   0.971564  0.971564  0.971564\n",
       "26       0.26  205   6  47   6   0.971564  0.971564  0.971564"
      ]
     },
     "execution_count": 39,
     "metadata": {},
     "output_type": "execute_result"
    }
   ],
   "source": [
    "df_scores[df_scores['precision'] == df_scores['recall']] "
   ]
  },
  {
   "cell_type": "code",
   "execution_count": 41,
   "id": "c6603a7b",
   "metadata": {},
   "outputs": [
    {
     "data": {
      "text/plain": [
       "[<matplotlib.lines.Line2D at 0x20a83512e20>]"
      ]
     },
     "execution_count": 41,
     "metadata": {},
     "output_type": "execute_result"
    },
    {
     "data": {
      "image/png": "[encoded data removed]",
      "text/plain": [
       "<Figure size 1440x504 with 1 Axes>"
      ]
     },
     "metadata": {
      "needs_background": "light"
     },
     "output_type": "display_data"
    }
   ],
   "source": [
    "plt.figure(figsize = (20,7))\n",
    "plt.xlabel('threshold')\n",
    "plt.ylabel('f1 value')\n",
    "plt.xticks([0, 0.1, 0.2, 0.3, 0.4, .5, .6, .7, .8, .9, 1.0, 1.1])\n",
    "plt.title('f1 curve')\n",
    "plt.plot(df_scores.threshold, df_scores.f1_score, label = 'f1_score')"
   ]
  },
  {
   "cell_type": "code",
   "execution_count": 42,
   "id": "50bba49c",
   "metadata": {},
   "outputs": [
    {
     "data": {
      "text/html": [
       "<div>\n",
       "<style scoped>\n",
       "    .dataframe tbody tr th:only-of-type {\n",
       "        vertical-align: middle;\n",
       "    }\n",
       "\n",
       "    .dataframe tbody tr th {\n",
       "        vertical-align: top;\n",
       "    }\n",
       "\n",
       "    .dataframe thead th {\n",
       "        text-align: right;\n",
       "    }\n",
       "</style>\n",
       "<table border=\"1\" class=\"dataframe\">\n",
       "  <thead>\n",
       "    <tr style=\"text-align: right;\">\n",
       "      <th></th>\n",
       "      <th>threshold</th>\n",
       "      <th>tp</th>\n",
       "      <th>fp</th>\n",
       "      <th>tn</th>\n",
       "      <th>fn</th>\n",
       "      <th>precision</th>\n",
       "      <th>recall</th>\n",
       "      <th>f1_score</th>\n",
       "    </tr>\n",
       "  </thead>\n",
       "  <tbody>\n",
       "    <tr>\n",
       "      <th>88</th>\n",
       "      <td>0.87</td>\n",
       "      <td>204</td>\n",
       "      <td>0</td>\n",
       "      <td>53</td>\n",
       "      <td>7</td>\n",
       "      <td>1.000000</td>\n",
       "      <td>0.966825</td>\n",
       "      <td>0.983133</td>\n",
       "    </tr>\n",
       "    <tr>\n",
       "      <th>34</th>\n",
       "      <td>0.34</td>\n",
       "      <td>205</td>\n",
       "      <td>1</td>\n",
       "      <td>52</td>\n",
       "      <td>6</td>\n",
       "      <td>0.995146</td>\n",
       "      <td>0.971564</td>\n",
       "      <td>0.983213</td>\n",
       "    </tr>\n",
       "    <tr>\n",
       "      <th>33</th>\n",
       "      <td>0.33</td>\n",
       "      <td>205</td>\n",
       "      <td>1</td>\n",
       "      <td>52</td>\n",
       "      <td>6</td>\n",
       "      <td>0.995146</td>\n",
       "      <td>0.971564</td>\n",
       "      <td>0.983213</td>\n",
       "    </tr>\n",
       "    <tr>\n",
       "      <th>32</th>\n",
       "      <td>0.32</td>\n",
       "      <td>205</td>\n",
       "      <td>1</td>\n",
       "      <td>52</td>\n",
       "      <td>6</td>\n",
       "      <td>0.995146</td>\n",
       "      <td>0.971564</td>\n",
       "      <td>0.983213</td>\n",
       "    </tr>\n",
       "    <tr>\n",
       "      <th>35</th>\n",
       "      <td>0.35</td>\n",
       "      <td>205</td>\n",
       "      <td>1</td>\n",
       "      <td>52</td>\n",
       "      <td>6</td>\n",
       "      <td>0.995146</td>\n",
       "      <td>0.971564</td>\n",
       "      <td>0.983213</td>\n",
       "    </tr>\n",
       "  </tbody>\n",
       "</table>\n",
       "</div>"
      ],
      "text/plain": [
       "    threshold   tp  fp  tn  fn  precision    recall  f1_score\n",
       "88       0.87  204   0  53   7   1.000000  0.966825  0.983133\n",
       "34       0.34  205   1  52   6   0.995146  0.971564  0.983213\n",
       "33       0.33  205   1  52   6   0.995146  0.971564  0.983213\n",
       "32       0.32  205   1  52   6   0.995146  0.971564  0.983213\n",
       "35       0.35  205   1  52   6   0.995146  0.971564  0.983213"
      ]
     },
     "execution_count": 42,
     "metadata": {},
     "output_type": "execute_result"
    }
   ],
   "source": [
    "df_scores.sort_values('f1_score').tail()"
   ]
  },
  {
   "cell_type": "code",
   "execution_count": null,
   "id": "20e6a9b6",
   "metadata": {},
   "outputs": [],
   "source": []
  },
  {
   "cell_type": "markdown",
   "id": "2deb95d3",
   "metadata": {},
   "source": [
    "#### Question 5\n",
    "- Use the KFold class from Scikit-Learn to evaluate our model on 5 different folds:\n",
    "\n",
    "- KFold(n_splits=5, shuffle=True, random_state=1)\n",
    "- Iterate over different folds of df_full_train\n",
    "- Split the data into train and validation\n",
    "- Train the model on train with these parameters: LogisticRegression(solver='liblinear', C=1.0, max_iter=1000)\n",
    "- Use AUC to evaluate the model on validation"
   ]
  },
  {
   "cell_type": "code",
   "execution_count": 43,
   "id": "86f01ba2",
   "metadata": {},
   "outputs": [],
   "source": [
    "# df_train_full_ = df_train_full[[\"reports\", \"age\", \"income\", \"share\", \"expenditure\", \n",
    "#                \"dependents\", \"months\", \"majorcards\", \"active\", \"owner\", \"selfemp\"]]\n",
    "\n",
    "# y_train_full = df_train_full['card']\n",
    "# X_train_full = pd.get_dummies(df_train_full_, drop_first=True)"
   ]
  },
  {
   "cell_type": "code",
   "execution_count": 45,
   "id": "ef1065d1",
   "metadata": {},
   "outputs": [],
   "source": [
    "from sklearn.model_selection import KFold"
   ]
  },
  {
   "cell_type": "code",
   "execution_count": 46,
   "id": "a41ba821",
   "metadata": {},
   "outputs": [],
   "source": [
    "from tqdm.auto import tqdm"
   ]
  },
  {
   "cell_type": "code",
   "execution_count": 55,
   "id": "b48f1847",
   "metadata": {},
   "outputs": [
    {
     "data": {
      "application/vnd.jupyter.widget-view+json": {
       "model_id": "ad71f31e96c740d58b12b1f46d84b85d",
       "version_major": 2,
       "version_minor": 0
      },
      "text/plain": [
       "0it [00:00, ?it/s]"
      ]
     },
     "metadata": {},
     "output_type": "display_data"
    },
    {
     "name": "stdout",
     "output_type": "stream",
     "text": [
      "0.003\n"
     ]
    }
   ],
   "source": [
    "kfold = KFold(n_splits=5, shuffle=True, random_state=1)\n",
    "\n",
    "scores = []\n",
    "for train_idx, val_idx in tqdm(kfold.split(df_train_full)):\n",
    "    df_train = df_train_full.iloc[train_idx]\n",
    "    df_val = df_train_full.iloc[val_idx]\n",
    "\n",
    "    X_train = df_train.drop('card', axis = 1)\n",
    "    X_val = df_val.drop('card', axis = 1)\n",
    "    \n",
    "    X_train = pd.get_dummies(X_train, drop_first=True)\n",
    "    X_val = pd.get_dummies(X_val, drop_first=True)\n",
    "    \n",
    "    y_train = df_train.card.values\n",
    "    y_val = df_val.card.values\n",
    "    \n",
    "    \n",
    "    model = LogisticRegression(solver='liblinear', C=1.0, max_iter=1000)\n",
    "    model.fit(X_train, y_train)\n",
    "    \n",
    "    y_pred = model.predict_proba(X_val)[:, 1]\n",
    "    \n",
    "    fpr, tpr, thresholds = roc_curve(y_val, y_pred)\n",
    "    \n",
    "\n",
    "    auc = roc_auc_score(y_val, y_pred)\n",
    "    scores.append(auc)\n",
    "print(np.round(np.std(scores), 3))\n"
   ]
  },
  {
   "cell_type": "markdown",
   "id": "7381335f",
   "metadata": {},
   "source": [
    "#### Question 6\n",
    "- Now let's use 5-Fold cross-validation to find the best parameter C\n",
    "\n",
    "- Iterate over the following C values: [0.01, 0.1, 1, 10]\n",
    "- Initialize KFold with the same parameters as previously\n",
    "- Use these parametes for the model: LogisticRegression(solver='liblinear', C=C, max_iter=1000)\n",
    "- Compute the mean score as well as the std (round the mean and std to 3 decimal digits)"
   ]
  },
  {
   "cell_type": "code",
   "execution_count": 56,
   "id": "2722fb09",
   "metadata": {},
   "outputs": [
    {
     "data": {
      "application/vnd.jupyter.widget-view+json": {
       "model_id": "acd8fca1a67341e0b13d4be0736667e1",
       "version_major": 2,
       "version_minor": 0
      },
      "text/plain": [
       "  0%|          | 0/4 [00:00<?, ?it/s]"
      ]
     },
     "metadata": {},
     "output_type": "display_data"
    },
    {
     "name": "stdout",
     "output_type": "stream",
     "text": [
      "0.01 0.992 0.006\n",
      "0.1 0.994 0.005\n",
      "1 0.996 0.003\n",
      "10 0.997 0.003\n"
     ]
    }
   ],
   "source": [
    "C = [0.01, 0.1, 1, 10]\n",
    "\n",
    "for c_value in tqdm(C):\n",
    "    kfold = KFold(n_splits=5, shuffle=True, random_state=1)\n",
    "\n",
    "    scores = []\n",
    "    \n",
    "    for train_idx, val_idx in kfold.split(df_train_full):\n",
    "        df_train = df_train_full.iloc[train_idx]\n",
    "        df_val = df_train_full.iloc[val_idx]\n",
    "\n",
    "        X_train = pd.get_dummies(df_train.drop('card', axis = 1), drop_first=True)\n",
    "        X_val = pd.get_dummies(df_val.drop('card', axis = 1), drop_first=True)\n",
    "\n",
    "        y_train = df_train.card.values\n",
    "        y_val = df_val.card.values\n",
    "\n",
    "\n",
    "        model = LogisticRegression(solver='liblinear', C=c_value, max_iter=1000)\n",
    "        model.fit(X_train, y_train)\n",
    "        \n",
    "        y_pred = model.predict_proba(X_val)[:, 1]\n",
    "\n",
    "\n",
    "        auc = roc_auc_score(y_val, y_pred)\n",
    "        scores.append(auc)\n",
    "    \n",
    "    print(c_value, np.round(np.mean(scores), 3), np.round(np.std(scores), 3))"
   ]
  },
  {
   "cell_type": "code",
   "execution_count": null,
   "id": "7e94379f",
   "metadata": {},
   "outputs": [],
   "source": []
  }
 ],
 "metadata": {
  "kernelspec": {
   "display_name": "Python 3 (ipykernel)",
   "language": "python",
   "name": "python3"
  },
  "language_info": {
   "codemirror_mode": {
    "name": "ipython",
    "version": 3
   },
   "file_extension": ".py",
   "mimetype": "text/x-python",
   "name": "python",
   "nbconvert_exporter": "python",
   "pygments_lexer": "ipython3",
   "version": "3.9.12"
  }
 },
 "nbformat": 4,
 "nbformat_minor": 5
}
