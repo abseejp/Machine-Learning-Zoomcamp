{
 "cells": [
  {
   "cell_type": "markdown",
   "id": "29e9f616",
   "metadata": {},
   "source": [
    "#### Import Libraries"
   ]
  },
  {
   "cell_type": "code",
   "execution_count": 1,
   "id": "6cf5c010",
   "metadata": {},
   "outputs": [],
   "source": [
    "import pandas as pd\n",
    "import numpy as np\n",
    "import matplotlib.pyplot as plt\n",
    "import seaborn as sns"
   ]
  },
  {
   "cell_type": "markdown",
   "id": "947e2034",
   "metadata": {},
   "source": [
    "#### Loading the data"
   ]
  },
  {
   "cell_type": "markdown",
   "id": "72ef6e53",
   "metadata": {},
   "source": [
    "- Use only the following columns:\n",
    "\n",
    "- 'latitude',\n",
    "- 'longitude',\n",
    "- 'housing_median_age',\n",
    "- 'total_rooms',\n",
    "- 'total_bedrooms',\n",
    "- 'population',\n",
    "- 'households',\n",
    "- 'median_income',\n",
    "- 'median_house_value',\n",
    "- 'ocean_proximity'\n",
    "\n",
    "- Fill NAs with 0.\n",
    "\n",
    "- Apply the log tranform to median_house_value.\n",
    "\n",
    "- Do train/validation/test split with 60%/20%/20% distribution.\n",
    "\n",
    "- Use the train_test_split function and set the random_state parameter to 1.\n",
    "- Use DictVectorizer to turn the dataframe into matrices."
   ]
  },
  {
   "cell_type": "code",
   "execution_count": 2,
   "id": "58985fac",
   "metadata": {},
   "outputs": [],
   "source": [
    "df = pd.read_csv('https://raw.githubusercontent.com/alexeygrigorev/datasets/master/housing.csv')"
   ]
  },
  {
   "cell_type": "code",
   "execution_count": 3,
   "id": "ac408646",
   "metadata": {},
   "outputs": [
    {
     "data": {
      "text/plain": [
       "(20640, 10)"
      ]
     },
     "execution_count": 3,
     "metadata": {},
     "output_type": "execute_result"
    }
   ],
   "source": [
    "df.shape"
   ]
  },
  {
   "cell_type": "code",
   "execution_count": 4,
   "id": "3bc4b8b5",
   "metadata": {},
   "outputs": [
    {
     "data": {
      "text/html": [
       "<div>\n",
       "<style scoped>\n",
       "    .dataframe tbody tr th:only-of-type {\n",
       "        vertical-align: middle;\n",
       "    }\n",
       "\n",
       "    .dataframe tbody tr th {\n",
       "        vertical-align: top;\n",
       "    }\n",
       "\n",
       "    .dataframe thead th {\n",
       "        text-align: right;\n",
       "    }\n",
       "</style>\n",
       "<table border=\"1\" class=\"dataframe\">\n",
       "  <thead>\n",
       "    <tr style=\"text-align: right;\">\n",
       "      <th></th>\n",
       "      <th>longitude</th>\n",
       "      <th>latitude</th>\n",
       "      <th>housing_median_age</th>\n",
       "      <th>total_rooms</th>\n",
       "      <th>total_bedrooms</th>\n",
       "      <th>population</th>\n",
       "      <th>households</th>\n",
       "      <th>median_income</th>\n",
       "      <th>median_house_value</th>\n",
       "      <th>ocean_proximity</th>\n",
       "    </tr>\n",
       "  </thead>\n",
       "  <tbody>\n",
       "    <tr>\n",
       "      <th>0</th>\n",
       "      <td>-122.23</td>\n",
       "      <td>37.88</td>\n",
       "      <td>41.0</td>\n",
       "      <td>880.0</td>\n",
       "      <td>129.0</td>\n",
       "      <td>322.0</td>\n",
       "      <td>126.0</td>\n",
       "      <td>8.3252</td>\n",
       "      <td>452600.0</td>\n",
       "      <td>NEAR BAY</td>\n",
       "    </tr>\n",
       "    <tr>\n",
       "      <th>1</th>\n",
       "      <td>-122.22</td>\n",
       "      <td>37.86</td>\n",
       "      <td>21.0</td>\n",
       "      <td>7099.0</td>\n",
       "      <td>1106.0</td>\n",
       "      <td>2401.0</td>\n",
       "      <td>1138.0</td>\n",
       "      <td>8.3014</td>\n",
       "      <td>358500.0</td>\n",
       "      <td>NEAR BAY</td>\n",
       "    </tr>\n",
       "    <tr>\n",
       "      <th>2</th>\n",
       "      <td>-122.24</td>\n",
       "      <td>37.85</td>\n",
       "      <td>52.0</td>\n",
       "      <td>1467.0</td>\n",
       "      <td>190.0</td>\n",
       "      <td>496.0</td>\n",
       "      <td>177.0</td>\n",
       "      <td>7.2574</td>\n",
       "      <td>352100.0</td>\n",
       "      <td>NEAR BAY</td>\n",
       "    </tr>\n",
       "    <tr>\n",
       "      <th>3</th>\n",
       "      <td>-122.25</td>\n",
       "      <td>37.85</td>\n",
       "      <td>52.0</td>\n",
       "      <td>1274.0</td>\n",
       "      <td>235.0</td>\n",
       "      <td>558.0</td>\n",
       "      <td>219.0</td>\n",
       "      <td>5.6431</td>\n",
       "      <td>341300.0</td>\n",
       "      <td>NEAR BAY</td>\n",
       "    </tr>\n",
       "    <tr>\n",
       "      <th>4</th>\n",
       "      <td>-122.25</td>\n",
       "      <td>37.85</td>\n",
       "      <td>52.0</td>\n",
       "      <td>1627.0</td>\n",
       "      <td>280.0</td>\n",
       "      <td>565.0</td>\n",
       "      <td>259.0</td>\n",
       "      <td>3.8462</td>\n",
       "      <td>342200.0</td>\n",
       "      <td>NEAR BAY</td>\n",
       "    </tr>\n",
       "  </tbody>\n",
       "</table>\n",
       "</div>"
      ],
      "text/plain": [
       "   longitude  latitude  housing_median_age  total_rooms  total_bedrooms  \\\n",
       "0    -122.23     37.88                41.0        880.0           129.0   \n",
       "1    -122.22     37.86                21.0       7099.0          1106.0   \n",
       "2    -122.24     37.85                52.0       1467.0           190.0   \n",
       "3    -122.25     37.85                52.0       1274.0           235.0   \n",
       "4    -122.25     37.85                52.0       1627.0           280.0   \n",
       "\n",
       "   population  households  median_income  median_house_value ocean_proximity  \n",
       "0       322.0       126.0         8.3252            452600.0        NEAR BAY  \n",
       "1      2401.0      1138.0         8.3014            358500.0        NEAR BAY  \n",
       "2       496.0       177.0         7.2574            352100.0        NEAR BAY  \n",
       "3       558.0       219.0         5.6431            341300.0        NEAR BAY  \n",
       "4       565.0       259.0         3.8462            342200.0        NEAR BAY  "
      ]
     },
     "execution_count": 4,
     "metadata": {},
     "output_type": "execute_result"
    }
   ],
   "source": [
    "df.head()"
   ]
  },
  {
   "cell_type": "code",
   "execution_count": 5,
   "id": "2756a693",
   "metadata": {},
   "outputs": [],
   "source": [
    "#### select relevant columns\n",
    "df = df[['latitude','longitude','housing_median_age','total_rooms','total_bedrooms','population','households','median_income',\n",
    "   'median_house_value','ocean_proximity']]"
   ]
  },
  {
   "cell_type": "code",
   "execution_count": 6,
   "id": "40abd764",
   "metadata": {},
   "outputs": [
    {
     "data": {
      "text/html": [
       "<div>\n",
       "<style scoped>\n",
       "    .dataframe tbody tr th:only-of-type {\n",
       "        vertical-align: middle;\n",
       "    }\n",
       "\n",
       "    .dataframe tbody tr th {\n",
       "        vertical-align: top;\n",
       "    }\n",
       "\n",
       "    .dataframe thead th {\n",
       "        text-align: right;\n",
       "    }\n",
       "</style>\n",
       "<table border=\"1\" class=\"dataframe\">\n",
       "  <thead>\n",
       "    <tr style=\"text-align: right;\">\n",
       "      <th></th>\n",
       "      <th>latitude</th>\n",
       "      <th>longitude</th>\n",
       "      <th>housing_median_age</th>\n",
       "      <th>total_rooms</th>\n",
       "      <th>total_bedrooms</th>\n",
       "      <th>population</th>\n",
       "      <th>households</th>\n",
       "      <th>median_income</th>\n",
       "      <th>median_house_value</th>\n",
       "      <th>ocean_proximity</th>\n",
       "    </tr>\n",
       "  </thead>\n",
       "  <tbody>\n",
       "    <tr>\n",
       "      <th>0</th>\n",
       "      <td>37.88</td>\n",
       "      <td>-122.23</td>\n",
       "      <td>41.0</td>\n",
       "      <td>880.0</td>\n",
       "      <td>129.0</td>\n",
       "      <td>322.0</td>\n",
       "      <td>126.0</td>\n",
       "      <td>8.3252</td>\n",
       "      <td>452600.0</td>\n",
       "      <td>NEAR BAY</td>\n",
       "    </tr>\n",
       "    <tr>\n",
       "      <th>1</th>\n",
       "      <td>37.86</td>\n",
       "      <td>-122.22</td>\n",
       "      <td>21.0</td>\n",
       "      <td>7099.0</td>\n",
       "      <td>1106.0</td>\n",
       "      <td>2401.0</td>\n",
       "      <td>1138.0</td>\n",
       "      <td>8.3014</td>\n",
       "      <td>358500.0</td>\n",
       "      <td>NEAR BAY</td>\n",
       "    </tr>\n",
       "    <tr>\n",
       "      <th>2</th>\n",
       "      <td>37.85</td>\n",
       "      <td>-122.24</td>\n",
       "      <td>52.0</td>\n",
       "      <td>1467.0</td>\n",
       "      <td>190.0</td>\n",
       "      <td>496.0</td>\n",
       "      <td>177.0</td>\n",
       "      <td>7.2574</td>\n",
       "      <td>352100.0</td>\n",
       "      <td>NEAR BAY</td>\n",
       "    </tr>\n",
       "    <tr>\n",
       "      <th>3</th>\n",
       "      <td>37.85</td>\n",
       "      <td>-122.25</td>\n",
       "      <td>52.0</td>\n",
       "      <td>1274.0</td>\n",
       "      <td>235.0</td>\n",
       "      <td>558.0</td>\n",
       "      <td>219.0</td>\n",
       "      <td>5.6431</td>\n",
       "      <td>341300.0</td>\n",
       "      <td>NEAR BAY</td>\n",
       "    </tr>\n",
       "    <tr>\n",
       "      <th>4</th>\n",
       "      <td>37.85</td>\n",
       "      <td>-122.25</td>\n",
       "      <td>52.0</td>\n",
       "      <td>1627.0</td>\n",
       "      <td>280.0</td>\n",
       "      <td>565.0</td>\n",
       "      <td>259.0</td>\n",
       "      <td>3.8462</td>\n",
       "      <td>342200.0</td>\n",
       "      <td>NEAR BAY</td>\n",
       "    </tr>\n",
       "  </tbody>\n",
       "</table>\n",
       "</div>"
      ],
      "text/plain": [
       "   latitude  longitude  housing_median_age  total_rooms  total_bedrooms  \\\n",
       "0     37.88    -122.23                41.0        880.0           129.0   \n",
       "1     37.86    -122.22                21.0       7099.0          1106.0   \n",
       "2     37.85    -122.24                52.0       1467.0           190.0   \n",
       "3     37.85    -122.25                52.0       1274.0           235.0   \n",
       "4     37.85    -122.25                52.0       1627.0           280.0   \n",
       "\n",
       "   population  households  median_income  median_house_value ocean_proximity  \n",
       "0       322.0       126.0         8.3252            452600.0        NEAR BAY  \n",
       "1      2401.0      1138.0         8.3014            358500.0        NEAR BAY  \n",
       "2       496.0       177.0         7.2574            352100.0        NEAR BAY  \n",
       "3       558.0       219.0         5.6431            341300.0        NEAR BAY  \n",
       "4       565.0       259.0         3.8462            342200.0        NEAR BAY  "
      ]
     },
     "execution_count": 6,
     "metadata": {},
     "output_type": "execute_result"
    }
   ],
   "source": [
    "df.head()"
   ]
  },
  {
   "cell_type": "code",
   "execution_count": 7,
   "id": "2ab8a878",
   "metadata": {},
   "outputs": [
    {
     "data": {
      "text/html": [
       "<div>\n",
       "<style scoped>\n",
       "    .dataframe tbody tr th:only-of-type {\n",
       "        vertical-align: middle;\n",
       "    }\n",
       "\n",
       "    .dataframe tbody tr th {\n",
       "        vertical-align: top;\n",
       "    }\n",
       "\n",
       "    .dataframe thead th {\n",
       "        text-align: right;\n",
       "    }\n",
       "</style>\n",
       "<table border=\"1\" class=\"dataframe\">\n",
       "  <thead>\n",
       "    <tr style=\"text-align: right;\">\n",
       "      <th></th>\n",
       "      <th>latitude</th>\n",
       "      <th>longitude</th>\n",
       "      <th>housing_median_age</th>\n",
       "      <th>total_rooms</th>\n",
       "      <th>total_bedrooms</th>\n",
       "      <th>population</th>\n",
       "      <th>households</th>\n",
       "      <th>median_income</th>\n",
       "      <th>median_house_value</th>\n",
       "    </tr>\n",
       "  </thead>\n",
       "  <tbody>\n",
       "    <tr>\n",
       "      <th>count</th>\n",
       "      <td>20640.000000</td>\n",
       "      <td>20640.000000</td>\n",
       "      <td>20640.000000</td>\n",
       "      <td>20640.000000</td>\n",
       "      <td>20433.000000</td>\n",
       "      <td>20640.000000</td>\n",
       "      <td>20640.000000</td>\n",
       "      <td>20640.000000</td>\n",
       "      <td>20640.000000</td>\n",
       "    </tr>\n",
       "    <tr>\n",
       "      <th>mean</th>\n",
       "      <td>35.631861</td>\n",
       "      <td>-119.569704</td>\n",
       "      <td>28.639486</td>\n",
       "      <td>2635.763081</td>\n",
       "      <td>537.870553</td>\n",
       "      <td>1425.476744</td>\n",
       "      <td>499.539680</td>\n",
       "      <td>3.870671</td>\n",
       "      <td>206855.816909</td>\n",
       "    </tr>\n",
       "    <tr>\n",
       "      <th>std</th>\n",
       "      <td>2.135952</td>\n",
       "      <td>2.003532</td>\n",
       "      <td>12.585558</td>\n",
       "      <td>2181.615252</td>\n",
       "      <td>421.385070</td>\n",
       "      <td>1132.462122</td>\n",
       "      <td>382.329753</td>\n",
       "      <td>1.899822</td>\n",
       "      <td>115395.615874</td>\n",
       "    </tr>\n",
       "    <tr>\n",
       "      <th>min</th>\n",
       "      <td>32.540000</td>\n",
       "      <td>-124.350000</td>\n",
       "      <td>1.000000</td>\n",
       "      <td>2.000000</td>\n",
       "      <td>1.000000</td>\n",
       "      <td>3.000000</td>\n",
       "      <td>1.000000</td>\n",
       "      <td>0.499900</td>\n",
       "      <td>14999.000000</td>\n",
       "    </tr>\n",
       "    <tr>\n",
       "      <th>25%</th>\n",
       "      <td>33.930000</td>\n",
       "      <td>-121.800000</td>\n",
       "      <td>18.000000</td>\n",
       "      <td>1447.750000</td>\n",
       "      <td>296.000000</td>\n",
       "      <td>787.000000</td>\n",
       "      <td>280.000000</td>\n",
       "      <td>2.563400</td>\n",
       "      <td>119600.000000</td>\n",
       "    </tr>\n",
       "    <tr>\n",
       "      <th>50%</th>\n",
       "      <td>34.260000</td>\n",
       "      <td>-118.490000</td>\n",
       "      <td>29.000000</td>\n",
       "      <td>2127.000000</td>\n",
       "      <td>435.000000</td>\n",
       "      <td>1166.000000</td>\n",
       "      <td>409.000000</td>\n",
       "      <td>3.534800</td>\n",
       "      <td>179700.000000</td>\n",
       "    </tr>\n",
       "    <tr>\n",
       "      <th>75%</th>\n",
       "      <td>37.710000</td>\n",
       "      <td>-118.010000</td>\n",
       "      <td>37.000000</td>\n",
       "      <td>3148.000000</td>\n",
       "      <td>647.000000</td>\n",
       "      <td>1725.000000</td>\n",
       "      <td>605.000000</td>\n",
       "      <td>4.743250</td>\n",
       "      <td>264725.000000</td>\n",
       "    </tr>\n",
       "    <tr>\n",
       "      <th>max</th>\n",
       "      <td>41.950000</td>\n",
       "      <td>-114.310000</td>\n",
       "      <td>52.000000</td>\n",
       "      <td>39320.000000</td>\n",
       "      <td>6445.000000</td>\n",
       "      <td>35682.000000</td>\n",
       "      <td>6082.000000</td>\n",
       "      <td>15.000100</td>\n",
       "      <td>500001.000000</td>\n",
       "    </tr>\n",
       "  </tbody>\n",
       "</table>\n",
       "</div>"
      ],
      "text/plain": [
       "           latitude     longitude  housing_median_age   total_rooms  \\\n",
       "count  20640.000000  20640.000000        20640.000000  20640.000000   \n",
       "mean      35.631861   -119.569704           28.639486   2635.763081   \n",
       "std        2.135952      2.003532           12.585558   2181.615252   \n",
       "min       32.540000   -124.350000            1.000000      2.000000   \n",
       "25%       33.930000   -121.800000           18.000000   1447.750000   \n",
       "50%       34.260000   -118.490000           29.000000   2127.000000   \n",
       "75%       37.710000   -118.010000           37.000000   3148.000000   \n",
       "max       41.950000   -114.310000           52.000000  39320.000000   \n",
       "\n",
       "       total_bedrooms    population    households  median_income  \\\n",
       "count    20433.000000  20640.000000  20640.000000   20640.000000   \n",
       "mean       537.870553   1425.476744    499.539680       3.870671   \n",
       "std        421.385070   1132.462122    382.329753       1.899822   \n",
       "min          1.000000      3.000000      1.000000       0.499900   \n",
       "25%        296.000000    787.000000    280.000000       2.563400   \n",
       "50%        435.000000   1166.000000    409.000000       3.534800   \n",
       "75%        647.000000   1725.000000    605.000000       4.743250   \n",
       "max       6445.000000  35682.000000   6082.000000      15.000100   \n",
       "\n",
       "       median_house_value  \n",
       "count        20640.000000  \n",
       "mean        206855.816909  \n",
       "std         115395.615874  \n",
       "min          14999.000000  \n",
       "25%         119600.000000  \n",
       "50%         179700.000000  \n",
       "75%         264725.000000  \n",
       "max         500001.000000  "
      ]
     },
     "execution_count": 7,
     "metadata": {},
     "output_type": "execute_result"
    }
   ],
   "source": [
    "df.describe()"
   ]
  },
  {
   "cell_type": "code",
   "execution_count": 8,
   "id": "44ac2e25",
   "metadata": {},
   "outputs": [
    {
     "data": {
      "text/plain": [
       "latitude                0\n",
       "longitude               0\n",
       "housing_median_age      0\n",
       "total_rooms             0\n",
       "total_bedrooms        207\n",
       "population              0\n",
       "households              0\n",
       "median_income           0\n",
       "median_house_value      0\n",
       "ocean_proximity         0\n",
       "dtype: int64"
      ]
     },
     "execution_count": 8,
     "metadata": {},
     "output_type": "execute_result"
    }
   ],
   "source": [
    "df.isnull().sum()"
   ]
  },
  {
   "cell_type": "code",
   "execution_count": 9,
   "id": "f81eb09b",
   "metadata": {},
   "outputs": [],
   "source": [
    "df = df.fillna(0)\n",
    "df['median_house_value'] = np.log(df['median_house_value'])"
   ]
  },
  {
   "cell_type": "code",
   "execution_count": 10,
   "id": "f3b3ef51",
   "metadata": {},
   "outputs": [],
   "source": [
    "from sklearn.model_selection import train_test_split"
   ]
  },
  {
   "cell_type": "code",
   "execution_count": 11,
   "id": "64503e9d",
   "metadata": {},
   "outputs": [],
   "source": [
    "full_train_df, test_df = train_test_split(df, test_size=0.2, random_state=1)\n",
    "train_df, val_df = train_test_split(full_train_df, test_size=.25, random_state=1)"
   ]
  },
  {
   "cell_type": "code",
   "execution_count": 12,
   "id": "9b6b1e89",
   "metadata": {},
   "outputs": [
    {
     "name": "stdout",
     "output_type": "stream",
     "text": [
      "(16512, 10) (12384, 10) (4128, 10) (4128, 10)\n"
     ]
    }
   ],
   "source": [
    "print(full_train_df.shape, train_df.shape, val_df.shape, test_df.shape)"
   ]
  },
  {
   "cell_type": "code",
   "execution_count": 13,
   "id": "f7f76a3f",
   "metadata": {},
   "outputs": [],
   "source": [
    "X_train = train_df.drop('median_house_value', axis = 1)\n",
    "X_train = X_train.to_dict(orient='records')\n",
    "y_train = train_df.median_house_value\n",
    "\n",
    "X_val = val_df.drop('median_house_value', axis = 1)\n",
    "X_val = X_val.to_dict(orient='records')\n",
    "y_val = val_df.median_house_value\n",
    "\n",
    "X_test = test_df.drop('median_house_value', axis = 1)\n",
    "X_test = X_test.to_dict(orient='records')\n",
    "y_test = test_df.median_house_value\n",
    "\n",
    "X_train_full = full_train_df.drop('median_house_value', axis = 1)\n",
    "X_train_full = X_train_full.to_dict(orient='records')\n",
    "y_train_full = full_train_df.median_house_value"
   ]
  },
  {
   "cell_type": "code",
   "execution_count": 14,
   "id": "b29ecfd5",
   "metadata": {},
   "outputs": [],
   "source": [
    "from sklearn.feature_extraction import DictVectorizer\n",
    "dv = DictVectorizer(sparse=False, sort=False)"
   ]
  },
  {
   "cell_type": "code",
   "execution_count": 15,
   "id": "58eca2d9",
   "metadata": {},
   "outputs": [],
   "source": [
    "X_train = dv.fit_transform(X_train)"
   ]
  },
  {
   "cell_type": "markdown",
   "id": "b105e627",
   "metadata": {},
   "source": [
    "#### Question 1\n",
    "- Let's train a decision tree regressor to predict the median_house_value variable.\n",
    "\n",
    "- Train a model with max_depth=1."
   ]
  },
  {
   "cell_type": "code",
   "execution_count": 16,
   "id": "b2efbcda",
   "metadata": {},
   "outputs": [],
   "source": [
    "from sklearn.tree import DecisionTreeRegressor"
   ]
  },
  {
   "cell_type": "code",
   "execution_count": 17,
   "id": "d9502b36",
   "metadata": {},
   "outputs": [],
   "source": [
    "decision_tree = DecisionTreeRegressor(max_depth=1)"
   ]
  },
  {
   "cell_type": "code",
   "execution_count": 18,
   "id": "ce84bd39",
   "metadata": {},
   "outputs": [
    {
     "data": {
      "text/plain": [
       "DecisionTreeRegressor(max_depth=1)"
      ]
     },
     "execution_count": 18,
     "metadata": {},
     "output_type": "execute_result"
    }
   ],
   "source": [
    "decision_tree.fit(X_train, y_train)"
   ]
  },
  {
   "cell_type": "code",
   "execution_count": 19,
   "id": "bacb5192",
   "metadata": {},
   "outputs": [],
   "source": [
    "from sklearn.tree import export_text"
   ]
  },
  {
   "cell_type": "code",
   "execution_count": 20,
   "id": "87fb519b",
   "metadata": {},
   "outputs": [
    {
     "name": "stdout",
     "output_type": "stream",
     "text": [
      "|--- ocean_proximity=INLAND <= 0.50\n",
      "|   |--- value: [12.31]\n",
      "|--- ocean_proximity=INLAND >  0.50\n",
      "|   |--- value: [11.61]\n",
      "\n"
     ]
    },
    {
     "name": "stderr",
     "output_type": "stream",
     "text": [
      "C:\\Users\\Abraham\\anaconda3\\lib\\site-packages\\sklearn\\utils\\deprecation.py:87: FutureWarning: Function get_feature_names is deprecated; get_feature_names is deprecated in 1.0 and will be removed in 1.2. Please use get_feature_names_out instead.\n",
      "  warnings.warn(msg, category=FutureWarning)\n"
     ]
    }
   ],
   "source": [
    "print(export_text(decision_tree, feature_names=dv.get_feature_names()))"
   ]
  },
  {
   "cell_type": "code",
   "execution_count": 21,
   "id": "9a2b3357",
   "metadata": {},
   "outputs": [],
   "source": [
    "from sklearn.metrics import mean_squared_error\n",
    "decision_tree_pred = decision_tree.predict(dv.transform(X_val))"
   ]
  },
  {
   "cell_type": "code",
   "execution_count": 22,
   "id": "3f7b03e6",
   "metadata": {},
   "outputs": [
    {
     "data": {
      "text/plain": [
       "0.46784032275406"
      ]
     },
     "execution_count": 22,
     "metadata": {},
     "output_type": "execute_result"
    }
   ],
   "source": [
    "np.sqrt(mean_squared_error(y_val, decision_tree_pred))"
   ]
  },
  {
   "cell_type": "markdown",
   "id": "f690130f",
   "metadata": {},
   "source": [
    "#### Question 2\n",
    "\n",
    "- Train a random forest model with these parameters:\n",
    "\n",
    "- n_estimators=10\n",
    "- random_state=1\n",
    "- n_jobs=-1 (optional - to make training faster)\n"
   ]
  },
  {
   "cell_type": "code",
   "execution_count": 23,
   "id": "c1429d04",
   "metadata": {},
   "outputs": [],
   "source": [
    "from sklearn.ensemble import RandomForestRegressor"
   ]
  },
  {
   "cell_type": "code",
   "execution_count": 24,
   "id": "e6df4a46",
   "metadata": {},
   "outputs": [],
   "source": [
    "random_forest = RandomForestRegressor(n_estimators=10, random_state=1, n_jobs=-1)"
   ]
  },
  {
   "cell_type": "code",
   "execution_count": 25,
   "id": "647b68f1",
   "metadata": {},
   "outputs": [
    {
     "data": {
      "text/plain": [
       "RandomForestRegressor(n_estimators=10, n_jobs=-1, random_state=1)"
      ]
     },
     "execution_count": 25,
     "metadata": {},
     "output_type": "execute_result"
    }
   ],
   "source": [
    "random_forest.fit(X_train, y_train)"
   ]
  },
  {
   "cell_type": "code",
   "execution_count": 26,
   "id": "21e9f6fd",
   "metadata": {},
   "outputs": [],
   "source": [
    "random_forest_pred = random_forest.predict(dv.transform(X_val))\n",
    "MSE = mean_squared_error(y_val, random_forest_pred)"
   ]
  },
  {
   "cell_type": "code",
   "execution_count": 27,
   "id": "3082f88c",
   "metadata": {},
   "outputs": [
    {
     "data": {
      "text/plain": [
       "0.24526199854865327"
      ]
     },
     "execution_count": 27,
     "metadata": {},
     "output_type": "execute_result"
    }
   ],
   "source": [
    "np.sqrt(MSE)"
   ]
  },
  {
   "cell_type": "markdown",
   "id": "68ba507c",
   "metadata": {},
   "source": [
    "#### Question 3\n",
    "- Now let's experiment with the n_estimators parameter\n",
    "\n",
    "- Try different values of this parameter from 10 to 200 with step 10.\n",
    "- Set random_state to 1.\n",
    "- Evaluate the model on the validation dataset."
   ]
  },
  {
   "cell_type": "code",
   "execution_count": 28,
   "id": "d72c7dbf",
   "metadata": {},
   "outputs": [],
   "source": [
    "scores = []\n",
    "for n in range(10,201, 10):\n",
    "    random_forest = RandomForestRegressor(n_estimators=n, random_state=1, n_jobs=-1)\n",
    "    random_forest.fit(X_train, y_train)    \n",
    "    random_forest_pred = random_forest.predict(dv.transform(X_val))\n",
    "    MSE = mean_squared_error(y_val, random_forest_pred)    \n",
    "    \n",
    "    RMSE = np.sqrt(MSE)\n",
    "    \n",
    "    scores.append((n, RMSE))\n",
    "    "
   ]
  },
  {
   "cell_type": "code",
   "execution_count": 29,
   "id": "34a3df10",
   "metadata": {},
   "outputs": [],
   "source": [
    "scores_df = pd.DataFrame(scores, columns=['n_estimator', 'RMSE'])"
   ]
  },
  {
   "cell_type": "code",
   "execution_count": 30,
   "id": "05fdc9c0",
   "metadata": {},
   "outputs": [],
   "source": [
    "scores_df['RMSE_3dp'] = np.round(scores_df['RMSE'], 3)"
   ]
  },
  {
   "cell_type": "code",
   "execution_count": 31,
   "id": "656c07f3",
   "metadata": {},
   "outputs": [
    {
     "data": {
      "text/html": [
       "<div>\n",
       "<style scoped>\n",
       "    .dataframe tbody tr th:only-of-type {\n",
       "        vertical-align: middle;\n",
       "    }\n",
       "\n",
       "    .dataframe tbody tr th {\n",
       "        vertical-align: top;\n",
       "    }\n",
       "\n",
       "    .dataframe thead th {\n",
       "        text-align: right;\n",
       "    }\n",
       "</style>\n",
       "<table border=\"1\" class=\"dataframe\">\n",
       "  <thead>\n",
       "    <tr style=\"text-align: right;\">\n",
       "      <th></th>\n",
       "      <th>n_estimator</th>\n",
       "      <th>RMSE</th>\n",
       "      <th>RMSE_3dp</th>\n",
       "    </tr>\n",
       "  </thead>\n",
       "  <tbody>\n",
       "    <tr>\n",
       "      <th>0</th>\n",
       "      <td>10</td>\n",
       "      <td>0.245262</td>\n",
       "      <td>0.245</td>\n",
       "    </tr>\n",
       "    <tr>\n",
       "      <th>1</th>\n",
       "      <td>20</td>\n",
       "      <td>0.239022</td>\n",
       "      <td>0.239</td>\n",
       "    </tr>\n",
       "    <tr>\n",
       "      <th>2</th>\n",
       "      <td>30</td>\n",
       "      <td>0.235652</td>\n",
       "      <td>0.236</td>\n",
       "    </tr>\n",
       "    <tr>\n",
       "      <th>3</th>\n",
       "      <td>40</td>\n",
       "      <td>0.234488</td>\n",
       "      <td>0.234</td>\n",
       "    </tr>\n",
       "    <tr>\n",
       "      <th>4</th>\n",
       "      <td>50</td>\n",
       "      <td>0.232954</td>\n",
       "      <td>0.233</td>\n",
       "    </tr>\n",
       "    <tr>\n",
       "      <th>5</th>\n",
       "      <td>60</td>\n",
       "      <td>0.232754</td>\n",
       "      <td>0.233</td>\n",
       "    </tr>\n",
       "    <tr>\n",
       "      <th>6</th>\n",
       "      <td>70</td>\n",
       "      <td>0.232110</td>\n",
       "      <td>0.232</td>\n",
       "    </tr>\n",
       "    <tr>\n",
       "      <th>7</th>\n",
       "      <td>80</td>\n",
       "      <td>0.232089</td>\n",
       "      <td>0.232</td>\n",
       "    </tr>\n",
       "    <tr>\n",
       "      <th>8</th>\n",
       "      <td>90</td>\n",
       "      <td>0.231916</td>\n",
       "      <td>0.232</td>\n",
       "    </tr>\n",
       "    <tr>\n",
       "      <th>9</th>\n",
       "      <td>100</td>\n",
       "      <td>0.231757</td>\n",
       "      <td>0.232</td>\n",
       "    </tr>\n",
       "    <tr>\n",
       "      <th>10</th>\n",
       "      <td>110</td>\n",
       "      <td>0.231417</td>\n",
       "      <td>0.231</td>\n",
       "    </tr>\n",
       "    <tr>\n",
       "      <th>11</th>\n",
       "      <td>120</td>\n",
       "      <td>0.231440</td>\n",
       "      <td>0.231</td>\n",
       "    </tr>\n",
       "    <tr>\n",
       "      <th>12</th>\n",
       "      <td>130</td>\n",
       "      <td>0.231598</td>\n",
       "      <td>0.232</td>\n",
       "    </tr>\n",
       "    <tr>\n",
       "      <th>13</th>\n",
       "      <td>140</td>\n",
       "      <td>0.231440</td>\n",
       "      <td>0.231</td>\n",
       "    </tr>\n",
       "    <tr>\n",
       "      <th>14</th>\n",
       "      <td>150</td>\n",
       "      <td>0.231377</td>\n",
       "      <td>0.231</td>\n",
       "    </tr>\n",
       "    <tr>\n",
       "      <th>15</th>\n",
       "      <td>160</td>\n",
       "      <td>0.231384</td>\n",
       "      <td>0.231</td>\n",
       "    </tr>\n",
       "    <tr>\n",
       "      <th>16</th>\n",
       "      <td>170</td>\n",
       "      <td>0.231350</td>\n",
       "      <td>0.231</td>\n",
       "    </tr>\n",
       "    <tr>\n",
       "      <th>17</th>\n",
       "      <td>180</td>\n",
       "      <td>0.231526</td>\n",
       "      <td>0.232</td>\n",
       "    </tr>\n",
       "    <tr>\n",
       "      <th>18</th>\n",
       "      <td>190</td>\n",
       "      <td>0.231455</td>\n",
       "      <td>0.231</td>\n",
       "    </tr>\n",
       "    <tr>\n",
       "      <th>19</th>\n",
       "      <td>200</td>\n",
       "      <td>0.231412</td>\n",
       "      <td>0.231</td>\n",
       "    </tr>\n",
       "  </tbody>\n",
       "</table>\n",
       "</div>"
      ],
      "text/plain": [
       "    n_estimator      RMSE  RMSE_3dp\n",
       "0            10  0.245262     0.245\n",
       "1            20  0.239022     0.239\n",
       "2            30  0.235652     0.236\n",
       "3            40  0.234488     0.234\n",
       "4            50  0.232954     0.233\n",
       "5            60  0.232754     0.233\n",
       "6            70  0.232110     0.232\n",
       "7            80  0.232089     0.232\n",
       "8            90  0.231916     0.232\n",
       "9           100  0.231757     0.232\n",
       "10          110  0.231417     0.231\n",
       "11          120  0.231440     0.231\n",
       "12          130  0.231598     0.232\n",
       "13          140  0.231440     0.231\n",
       "14          150  0.231377     0.231\n",
       "15          160  0.231384     0.231\n",
       "16          170  0.231350     0.231\n",
       "17          180  0.231526     0.232\n",
       "18          190  0.231455     0.231\n",
       "19          200  0.231412     0.231"
      ]
     },
     "execution_count": 31,
     "metadata": {},
     "output_type": "execute_result"
    }
   ],
   "source": [
    "scores_df"
   ]
  },
  {
   "cell_type": "code",
   "execution_count": 32,
   "id": "5d46b680",
   "metadata": {},
   "outputs": [
    {
     "data": {
      "text/plain": [
       "<matplotlib.legend.Legend at 0x16664b916a0>"
      ]
     },
     "execution_count": 32,
     "metadata": {},
     "output_type": "execute_result"
    },
    {
     "data": {
      "image/png": "[encoded data removed]",
      "text/plain": [
       "<Figure size 720x720 with 1 Axes>"
      ]
     },
     "metadata": {
      "needs_background": "light"
     },
     "output_type": "display_data"
    }
   ],
   "source": [
    "plt.figure(figsize=(10,10))\n",
    "plt.plot(scores_df.n_estimator, scores_df.RMSE, label = 'RAW_RMSE')\n",
    "plt.plot(scores_df.n_estimator, scores_df.RMSE_3dp,  label = 'RMSE_3dp')\n",
    "plt.legend()"
   ]
  },
  {
   "cell_type": "markdown",
   "id": "814b1e16",
   "metadata": {},
   "source": [
    "#### Question 4\n",
    "- Let's select the best max_depth:\n",
    "\n",
    "- Try different values of max_depth: [10, 15, 20, 25]\n",
    "- For each of these values, try different values of n_estimators from 10 till 200 (with step 10)\n",
    "- Fix the random seed: random_state=1"
   ]
  },
  {
   "cell_type": "code",
   "execution_count": 33,
   "id": "c313319e",
   "metadata": {},
   "outputs": [],
   "source": [
    "scores = []\n",
    "for max_depth in [10, 15, 20, 25]:\n",
    "    for n_estimator in range(10,201, 10):\n",
    "        random_forest = RandomForestRegressor(n_estimators=n_estimator, max_depth=max_depth, random_state=1, n_jobs=-1)\n",
    "        random_forest.fit(X_train, y_train)    \n",
    "        random_forest_pred = random_forest.predict(dv.transform(X_val))\n",
    "        MSE = mean_squared_error(y_val, random_forest_pred)    \n",
    "\n",
    "        RMSE = np.sqrt(MSE)\n",
    "\n",
    "        scores.append((max_depth, n_estimator, RMSE))\n",
    "    "
   ]
  },
  {
   "cell_type": "code",
   "execution_count": 34,
   "id": "c09e4f76",
   "metadata": {},
   "outputs": [],
   "source": [
    "scores_df = pd.DataFrame(scores, columns=['max_depth', 'n_estimators', 'RMSE'])"
   ]
  },
  {
   "cell_type": "code",
   "execution_count": 35,
   "id": "a871d205",
   "metadata": {},
   "outputs": [
    {
     "data": {
      "text/html": [
       "<div>\n",
       "<style scoped>\n",
       "    .dataframe tbody tr th:only-of-type {\n",
       "        vertical-align: middle;\n",
       "    }\n",
       "\n",
       "    .dataframe tbody tr th {\n",
       "        vertical-align: top;\n",
       "    }\n",
       "\n",
       "    .dataframe thead th {\n",
       "        text-align: right;\n",
       "    }\n",
       "</style>\n",
       "<table border=\"1\" class=\"dataframe\">\n",
       "  <thead>\n",
       "    <tr style=\"text-align: right;\">\n",
       "      <th></th>\n",
       "      <th>max_depth</th>\n",
       "      <th>n_estimators</th>\n",
       "      <th>RMSE</th>\n",
       "    </tr>\n",
       "  </thead>\n",
       "  <tbody>\n",
       "    <tr>\n",
       "      <th>60</th>\n",
       "      <td>25</td>\n",
       "      <td>10</td>\n",
       "      <td>0.245334</td>\n",
       "    </tr>\n",
       "    <tr>\n",
       "      <th>61</th>\n",
       "      <td>25</td>\n",
       "      <td>20</td>\n",
       "      <td>0.238677</td>\n",
       "    </tr>\n",
       "    <tr>\n",
       "      <th>62</th>\n",
       "      <td>25</td>\n",
       "      <td>30</td>\n",
       "      <td>0.235503</td>\n",
       "    </tr>\n",
       "    <tr>\n",
       "      <th>63</th>\n",
       "      <td>25</td>\n",
       "      <td>40</td>\n",
       "      <td>0.234562</td>\n",
       "    </tr>\n",
       "    <tr>\n",
       "      <th>64</th>\n",
       "      <td>25</td>\n",
       "      <td>50</td>\n",
       "      <td>0.233090</td>\n",
       "    </tr>\n",
       "    <tr>\n",
       "      <th>65</th>\n",
       "      <td>25</td>\n",
       "      <td>60</td>\n",
       "      <td>0.233042</td>\n",
       "    </tr>\n",
       "    <tr>\n",
       "      <th>66</th>\n",
       "      <td>25</td>\n",
       "      <td>70</td>\n",
       "      <td>0.232394</td>\n",
       "    </tr>\n",
       "    <tr>\n",
       "      <th>67</th>\n",
       "      <td>25</td>\n",
       "      <td>80</td>\n",
       "      <td>0.232357</td>\n",
       "    </tr>\n",
       "    <tr>\n",
       "      <th>68</th>\n",
       "      <td>25</td>\n",
       "      <td>90</td>\n",
       "      <td>0.232262</td>\n",
       "    </tr>\n",
       "    <tr>\n",
       "      <th>69</th>\n",
       "      <td>25</td>\n",
       "      <td>100</td>\n",
       "      <td>0.232117</td>\n",
       "    </tr>\n",
       "    <tr>\n",
       "      <th>70</th>\n",
       "      <td>25</td>\n",
       "      <td>110</td>\n",
       "      <td>0.231785</td>\n",
       "    </tr>\n",
       "    <tr>\n",
       "      <th>71</th>\n",
       "      <td>25</td>\n",
       "      <td>120</td>\n",
       "      <td>0.231694</td>\n",
       "    </tr>\n",
       "    <tr>\n",
       "      <th>72</th>\n",
       "      <td>25</td>\n",
       "      <td>130</td>\n",
       "      <td>0.231851</td>\n",
       "    </tr>\n",
       "    <tr>\n",
       "      <th>73</th>\n",
       "      <td>25</td>\n",
       "      <td>140</td>\n",
       "      <td>0.231679</td>\n",
       "    </tr>\n",
       "    <tr>\n",
       "      <th>74</th>\n",
       "      <td>25</td>\n",
       "      <td>150</td>\n",
       "      <td>0.231597</td>\n",
       "    </tr>\n",
       "    <tr>\n",
       "      <th>75</th>\n",
       "      <td>25</td>\n",
       "      <td>160</td>\n",
       "      <td>0.231556</td>\n",
       "    </tr>\n",
       "    <tr>\n",
       "      <th>76</th>\n",
       "      <td>25</td>\n",
       "      <td>170</td>\n",
       "      <td>0.231531</td>\n",
       "    </tr>\n",
       "    <tr>\n",
       "      <th>77</th>\n",
       "      <td>25</td>\n",
       "      <td>180</td>\n",
       "      <td>0.231702</td>\n",
       "    </tr>\n",
       "    <tr>\n",
       "      <th>78</th>\n",
       "      <td>25</td>\n",
       "      <td>190</td>\n",
       "      <td>0.231658</td>\n",
       "    </tr>\n",
       "    <tr>\n",
       "      <th>79</th>\n",
       "      <td>25</td>\n",
       "      <td>200</td>\n",
       "      <td>0.231589</td>\n",
       "    </tr>\n",
       "  </tbody>\n",
       "</table>\n",
       "</div>"
      ],
      "text/plain": [
       "    max_depth  n_estimators      RMSE\n",
       "60         25            10  0.245334\n",
       "61         25            20  0.238677\n",
       "62         25            30  0.235503\n",
       "63         25            40  0.234562\n",
       "64         25            50  0.233090\n",
       "65         25            60  0.233042\n",
       "66         25            70  0.232394\n",
       "67         25            80  0.232357\n",
       "68         25            90  0.232262\n",
       "69         25           100  0.232117\n",
       "70         25           110  0.231785\n",
       "71         25           120  0.231694\n",
       "72         25           130  0.231851\n",
       "73         25           140  0.231679\n",
       "74         25           150  0.231597\n",
       "75         25           160  0.231556\n",
       "76         25           170  0.231531\n",
       "77         25           180  0.231702\n",
       "78         25           190  0.231658\n",
       "79         25           200  0.231589"
      ]
     },
     "execution_count": 35,
     "metadata": {},
     "output_type": "execute_result"
    }
   ],
   "source": [
    "scores_df.tail(20)"
   ]
  },
  {
   "cell_type": "code",
   "execution_count": 36,
   "id": "c15f7d6b",
   "metadata": {},
   "outputs": [
    {
     "data": {
      "text/html": [
       "<div>\n",
       "<style scoped>\n",
       "    .dataframe tbody tr th:only-of-type {\n",
       "        vertical-align: middle;\n",
       "    }\n",
       "\n",
       "    .dataframe tbody tr th {\n",
       "        vertical-align: top;\n",
       "    }\n",
       "\n",
       "    .dataframe thead th {\n",
       "        text-align: right;\n",
       "    }\n",
       "</style>\n",
       "<table border=\"1\" class=\"dataframe\">\n",
       "  <thead>\n",
       "    <tr style=\"text-align: right;\">\n",
       "      <th>n_estimators</th>\n",
       "      <th>10</th>\n",
       "      <th>20</th>\n",
       "      <th>30</th>\n",
       "      <th>40</th>\n",
       "      <th>50</th>\n",
       "      <th>60</th>\n",
       "      <th>70</th>\n",
       "      <th>80</th>\n",
       "      <th>90</th>\n",
       "      <th>100</th>\n",
       "      <th>110</th>\n",
       "      <th>120</th>\n",
       "      <th>130</th>\n",
       "      <th>140</th>\n",
       "      <th>150</th>\n",
       "      <th>160</th>\n",
       "      <th>170</th>\n",
       "      <th>180</th>\n",
       "      <th>190</th>\n",
       "      <th>200</th>\n",
       "    </tr>\n",
       "    <tr>\n",
       "      <th>max_depth</th>\n",
       "      <th></th>\n",
       "      <th></th>\n",
       "      <th></th>\n",
       "      <th></th>\n",
       "      <th></th>\n",
       "      <th></th>\n",
       "      <th></th>\n",
       "      <th></th>\n",
       "      <th></th>\n",
       "      <th></th>\n",
       "      <th></th>\n",
       "      <th></th>\n",
       "      <th></th>\n",
       "      <th></th>\n",
       "      <th></th>\n",
       "      <th></th>\n",
       "      <th></th>\n",
       "      <th></th>\n",
       "      <th></th>\n",
       "      <th></th>\n",
       "    </tr>\n",
       "  </thead>\n",
       "  <tbody>\n",
       "    <tr>\n",
       "      <th>10</th>\n",
       "      <td>0.255076</td>\n",
       "      <td>0.252708</td>\n",
       "      <td>0.251470</td>\n",
       "      <td>0.250999</td>\n",
       "      <td>0.250113</td>\n",
       "      <td>0.250068</td>\n",
       "      <td>0.249844</td>\n",
       "      <td>0.249632</td>\n",
       "      <td>0.249411</td>\n",
       "      <td>0.249253</td>\n",
       "      <td>0.249069</td>\n",
       "      <td>0.249081</td>\n",
       "      <td>0.249166</td>\n",
       "      <td>0.249294</td>\n",
       "      <td>0.249310</td>\n",
       "      <td>0.249240</td>\n",
       "      <td>0.249063</td>\n",
       "      <td>0.249186</td>\n",
       "      <td>0.249236</td>\n",
       "      <td>0.249234</td>\n",
       "    </tr>\n",
       "    <tr>\n",
       "      <th>15</th>\n",
       "      <td>0.245197</td>\n",
       "      <td>0.239520</td>\n",
       "      <td>0.237311</td>\n",
       "      <td>0.236581</td>\n",
       "      <td>0.235126</td>\n",
       "      <td>0.234979</td>\n",
       "      <td>0.234425</td>\n",
       "      <td>0.234259</td>\n",
       "      <td>0.234076</td>\n",
       "      <td>0.233826</td>\n",
       "      <td>0.233564</td>\n",
       "      <td>0.233574</td>\n",
       "      <td>0.233628</td>\n",
       "      <td>0.233480</td>\n",
       "      <td>0.233412</td>\n",
       "      <td>0.233483</td>\n",
       "      <td>0.233443</td>\n",
       "      <td>0.233587</td>\n",
       "      <td>0.233660</td>\n",
       "      <td>0.233635</td>\n",
       "    </tr>\n",
       "    <tr>\n",
       "      <th>20</th>\n",
       "      <td>0.245681</td>\n",
       "      <td>0.238686</td>\n",
       "      <td>0.235821</td>\n",
       "      <td>0.235091</td>\n",
       "      <td>0.233336</td>\n",
       "      <td>0.233265</td>\n",
       "      <td>0.232718</td>\n",
       "      <td>0.232677</td>\n",
       "      <td>0.232347</td>\n",
       "      <td>0.232156</td>\n",
       "      <td>0.231970</td>\n",
       "      <td>0.231940</td>\n",
       "      <td>0.231973</td>\n",
       "      <td>0.231855</td>\n",
       "      <td>0.231862</td>\n",
       "      <td>0.231873</td>\n",
       "      <td>0.231787</td>\n",
       "      <td>0.231946</td>\n",
       "      <td>0.231966</td>\n",
       "      <td>0.231902</td>\n",
       "    </tr>\n",
       "    <tr>\n",
       "      <th>25</th>\n",
       "      <td>0.245334</td>\n",
       "      <td>0.238677</td>\n",
       "      <td>0.235503</td>\n",
       "      <td>0.234562</td>\n",
       "      <td>0.233090</td>\n",
       "      <td>0.233042</td>\n",
       "      <td>0.232394</td>\n",
       "      <td>0.232357</td>\n",
       "      <td>0.232262</td>\n",
       "      <td>0.232117</td>\n",
       "      <td>0.231785</td>\n",
       "      <td>0.231694</td>\n",
       "      <td>0.231851</td>\n",
       "      <td>0.231679</td>\n",
       "      <td>0.231597</td>\n",
       "      <td>0.231556</td>\n",
       "      <td>0.231531</td>\n",
       "      <td>0.231702</td>\n",
       "      <td>0.231658</td>\n",
       "      <td>0.231589</td>\n",
       "    </tr>\n",
       "  </tbody>\n",
       "</table>\n",
       "</div>"
      ],
      "text/plain": [
       "n_estimators       10        20        30        40        50        60   \\\n",
       "max_depth                                                                  \n",
       "10            0.255076  0.252708  0.251470  0.250999  0.250113  0.250068   \n",
       "15            0.245197  0.239520  0.237311  0.236581  0.235126  0.234979   \n",
       "20            0.245681  0.238686  0.235821  0.235091  0.233336  0.233265   \n",
       "25            0.245334  0.238677  0.235503  0.234562  0.233090  0.233042   \n",
       "\n",
       "n_estimators       70        80        90        100       110       120  \\\n",
       "max_depth                                                                  \n",
       "10            0.249844  0.249632  0.249411  0.249253  0.249069  0.249081   \n",
       "15            0.234425  0.234259  0.234076  0.233826  0.233564  0.233574   \n",
       "20            0.232718  0.232677  0.232347  0.232156  0.231970  0.231940   \n",
       "25            0.232394  0.232357  0.232262  0.232117  0.231785  0.231694   \n",
       "\n",
       "n_estimators       130       140       150       160       170       180  \\\n",
       "max_depth                                                                  \n",
       "10            0.249166  0.249294  0.249310  0.249240  0.249063  0.249186   \n",
       "15            0.233628  0.233480  0.233412  0.233483  0.233443  0.233587   \n",
       "20            0.231973  0.231855  0.231862  0.231873  0.231787  0.231946   \n",
       "25            0.231851  0.231679  0.231597  0.231556  0.231531  0.231702   \n",
       "\n",
       "n_estimators       190       200  \n",
       "max_depth                         \n",
       "10            0.249236  0.249234  \n",
       "15            0.233660  0.233635  \n",
       "20            0.231966  0.231902  \n",
       "25            0.231658  0.231589  "
      ]
     },
     "execution_count": 36,
     "metadata": {},
     "output_type": "execute_result"
    }
   ],
   "source": [
    "scores_df.pivot(index=\"max_depth\", columns=\"n_estimators\", values=\"RMSE\")"
   ]
  },
  {
   "cell_type": "code",
   "execution_count": 37,
   "id": "3453cd88",
   "metadata": {},
   "outputs": [
    {
     "data": {
      "text/plain": [
       "<matplotlib.legend.Legend at 0x16675b193a0>"
      ]
     },
     "execution_count": 37,
     "metadata": {},
     "output_type": "execute_result"
    },
    {
     "data": {
      "image/png": "[encoded data removed]",
      "text/plain": [
       "<Figure size 864x576 with 1 Axes>"
      ]
     },
     "metadata": {
      "needs_background": "light"
     },
     "output_type": "display_data"
    }
   ],
   "source": [
    "plt.figure(figsize=(12,8))\n",
    "for d in [10, 15, 20, 25]:\n",
    "    df_subset = scores_df[scores_df['max_depth'] == d]\n",
    "    plt.plot(df_subset['n_estimators'], df_subset['RMSE'], label = f'max_depth ={d}')\n",
    "    \n",
    "plt.legend()"
   ]
  },
  {
   "cell_type": "markdown",
   "id": "1aba8ce0",
   "metadata": {},
   "source": [
    "#### Question 5\n",
    "- We can extract feature importance information from tree-based models.\n",
    "\n",
    "- At each step of the decision tree learning algorith, it finds the best split. When doint it, we can calculate \"gain\" - the reduction in impurity before and after the split. This gain is quite useful in understanding what are the imporatant features for tree-based models.\n",
    "\n",
    "- In Scikit-Learn, tree-based models contain this information in the feature_importances_ field.\n",
    "\n",
    "- For this homework question, we'll find the most important feature:\n",
    "\n",
    "- Train the model with these parametes:\n",
    "- n_estimators=10,\n",
    "- max_depth=20,\n",
    "- random_state=1,\n",
    "- n_jobs=-1 (optional)\n",
    "- Get the feature importance information from this model\n",
    "- What's the most important feature?"
   ]
  },
  {
   "cell_type": "code",
   "execution_count": 38,
   "id": "82608f27",
   "metadata": {},
   "outputs": [
    {
     "data": {
      "text/plain": [
       "RandomForestRegressor(max_depth=20, n_estimators=10, n_jobs=-1, random_state=1)"
      ]
     },
     "execution_count": 38,
     "metadata": {},
     "output_type": "execute_result"
    }
   ],
   "source": [
    "random_forest = RandomForestRegressor(n_estimators=10, max_depth=20, random_state=1, n_jobs=-1)\n",
    "random_forest.fit(X_train, y_train)    "
   ]
  },
  {
   "cell_type": "code",
   "execution_count": 39,
   "id": "b43f7e45",
   "metadata": {},
   "outputs": [],
   "source": [
    "feature_importance = random_forest.feature_importances_"
   ]
  },
  {
   "cell_type": "code",
   "execution_count": 40,
   "id": "db05797b",
   "metadata": {},
   "outputs": [
    {
     "name": "stderr",
     "output_type": "stream",
     "text": [
      "C:\\Users\\Abraham\\anaconda3\\lib\\site-packages\\sklearn\\utils\\deprecation.py:87: FutureWarning: Function get_feature_names is deprecated; get_feature_names is deprecated in 1.0 and will be removed in 1.2. Please use get_feature_names_out instead.\n",
      "  warnings.warn(msg, category=FutureWarning)\n"
     ]
    }
   ],
   "source": [
    "df = []\n",
    "for feature, importance in zip(dv.get_feature_names(),feature_importance):\n",
    "    df.append((feature,importance))"
   ]
  },
  {
   "cell_type": "code",
   "execution_count": 41,
   "id": "ccb50ed0",
   "metadata": {},
   "outputs": [
    {
     "data": {
      "text/html": [
       "<div>\n",
       "<style scoped>\n",
       "    .dataframe tbody tr th:only-of-type {\n",
       "        vertical-align: middle;\n",
       "    }\n",
       "\n",
       "    .dataframe tbody tr th {\n",
       "        vertical-align: top;\n",
       "    }\n",
       "\n",
       "    .dataframe thead th {\n",
       "        text-align: right;\n",
       "    }\n",
       "</style>\n",
       "<table border=\"1\" class=\"dataframe\">\n",
       "  <thead>\n",
       "    <tr style=\"text-align: right;\">\n",
       "      <th></th>\n",
       "      <th>feature</th>\n",
       "      <th>importance</th>\n",
       "    </tr>\n",
       "  </thead>\n",
       "  <tbody>\n",
       "    <tr>\n",
       "      <th>0</th>\n",
       "      <td>ocean_proximity=NEAR BAY</td>\n",
       "      <td>0.000299</td>\n",
       "    </tr>\n",
       "    <tr>\n",
       "      <th>1</th>\n",
       "      <td>ocean_proximity=ISLAND</td>\n",
       "      <td>0.000357</td>\n",
       "    </tr>\n",
       "    <tr>\n",
       "      <th>2</th>\n",
       "      <td>ocean_proximity=&lt;1H OCEAN</td>\n",
       "      <td>0.002518</td>\n",
       "    </tr>\n",
       "    <tr>\n",
       "      <th>3</th>\n",
       "      <td>ocean_proximity=NEAR OCEAN</td>\n",
       "      <td>0.004772</td>\n",
       "    </tr>\n",
       "    <tr>\n",
       "      <th>4</th>\n",
       "      <td>households</td>\n",
       "      <td>0.017204</td>\n",
       "    </tr>\n",
       "    <tr>\n",
       "      <th>5</th>\n",
       "      <td>total_bedrooms</td>\n",
       "      <td>0.018815</td>\n",
       "    </tr>\n",
       "    <tr>\n",
       "      <th>6</th>\n",
       "      <td>total_rooms</td>\n",
       "      <td>0.021317</td>\n",
       "    </tr>\n",
       "    <tr>\n",
       "      <th>7</th>\n",
       "      <td>population</td>\n",
       "      <td>0.029552</td>\n",
       "    </tr>\n",
       "    <tr>\n",
       "      <th>8</th>\n",
       "      <td>housing_median_age</td>\n",
       "      <td>0.033060</td>\n",
       "    </tr>\n",
       "    <tr>\n",
       "      <th>9</th>\n",
       "      <td>longitude</td>\n",
       "      <td>0.096387</td>\n",
       "    </tr>\n",
       "    <tr>\n",
       "      <th>10</th>\n",
       "      <td>latitude</td>\n",
       "      <td>0.101416</td>\n",
       "    </tr>\n",
       "    <tr>\n",
       "      <th>11</th>\n",
       "      <td>ocean_proximity=INLAND</td>\n",
       "      <td>0.310901</td>\n",
       "    </tr>\n",
       "    <tr>\n",
       "      <th>12</th>\n",
       "      <td>median_income</td>\n",
       "      <td>0.363401</td>\n",
       "    </tr>\n",
       "  </tbody>\n",
       "</table>\n",
       "</div>"
      ],
      "text/plain": [
       "                       feature  importance\n",
       "0     ocean_proximity=NEAR BAY    0.000299\n",
       "1       ocean_proximity=ISLAND    0.000357\n",
       "2    ocean_proximity=<1H OCEAN    0.002518\n",
       "3   ocean_proximity=NEAR OCEAN    0.004772\n",
       "4                   households    0.017204\n",
       "5               total_bedrooms    0.018815\n",
       "6                  total_rooms    0.021317\n",
       "7                   population    0.029552\n",
       "8           housing_median_age    0.033060\n",
       "9                    longitude    0.096387\n",
       "10                    latitude    0.101416\n",
       "11      ocean_proximity=INLAND    0.310901\n",
       "12               median_income    0.363401"
      ]
     },
     "execution_count": 41,
     "metadata": {},
     "output_type": "execute_result"
    }
   ],
   "source": [
    "df = pd.DataFrame(df, columns=['feature', 'importance']).sort_values('importance', ascending = True).reset_index(drop=True)\n",
    "df"
   ]
  },
  {
   "cell_type": "code",
   "execution_count": 42,
   "id": "3c2f2331",
   "metadata": {},
   "outputs": [
    {
     "data": {
      "image/png": "[encoded data removed]",
      "text/plain": [
       "<Figure size 864x576 with 1 Axes>"
      ]
     },
     "metadata": {
      "needs_background": "light"
     },
     "output_type": "display_data"
    }
   ],
   "source": [
    "plt.figure(figsize=(12,8))\n",
    "plt.barh(df.feature, df.importance, color  = 'red')\n",
    "plt.show()"
   ]
  },
  {
   "cell_type": "markdown",
   "id": "9621c4f1",
   "metadata": {},
   "source": [
    "#### Question 6\n",
    "- Now let's train an XGBoost model! For this question, we'll tune the eta parameter:\n",
    "\n",
    "- Install XGBoost\n",
    "- Create DMatrix for train and validation\n",
    "- Create a watchlist\n",
    "- Train a model with these parameters for 100 rounds:\n",
    "- xgb_params = {\n",
    "    'eta': 0.3, \n",
    "    'max_depth': 6,\n",
    "    'min_child_weight': 1,\n",
    "    \n",
    "    'objective': 'reg:squarederror',\n",
    "    'nthread': 8,\n",
    "    \n",
    "    'seed': 1,\n",
    "    'verbosity': 1,\n",
    "}\n",
    "- Now change eta from 0.3 to 0.1."
   ]
  },
  {
   "cell_type": "code",
   "execution_count": 43,
   "id": "c8d95de2",
   "metadata": {},
   "outputs": [],
   "source": [
    "import xgboost as xgb"
   ]
  },
  {
   "cell_type": "code",
   "execution_count": 44,
   "id": "33789783",
   "metadata": {},
   "outputs": [],
   "source": [
    "import re\n",
    "features = dv.feature_names_\n",
    "\n",
    "regex = re.compile(r\"<\", re.IGNORECASE)\n",
    "features = [regex.sub(\"_\", col) if any(x in str(col) for x in set(('[', ']', '<'))) else col for col in features]\n",
    "\n",
    "dtrain = xgb.DMatrix(X_train, label=y_train, feature_names=features)\n",
    "dval = xgb.DMatrix(dv.transform(X_val), label=y_val, feature_names=features)"
   ]
  },
  {
   "cell_type": "code",
   "execution_count": 45,
   "id": "c063d5f9",
   "metadata": {},
   "outputs": [],
   "source": [
    "scores = []\n",
    "for learning_rate in [0.3, 0.1, 0.5, 0.7, 1.0, 0.01, 0.001]:\n",
    "    for num_tree in range(0,100):\n",
    "        xgb_params = {\n",
    "            'eta': learning_rate, \n",
    "            'max_depth': 6,\n",
    "            'min_child_weight': 1,\n",
    "\n",
    "            'objective': 'reg:squarederror',\n",
    "            'nthread': 8,\n",
    "\n",
    "            'seed': 1,\n",
    "            'verbosity': 1,\n",
    "        }\n",
    "        xgb_model = xgb.train(xgb_params, dtrain, num_boost_round=num_tree) \n",
    "        xgb_predictions = xgb_model.predict(dval)  \n",
    "        RMSE = np.sqrt(mean_squared_error(y_val, xgb_predictions)) \n",
    "        \n",
    "        scores.append((learning_rate, num_tree, RMSE))\n",
    "#         print(f'for learning rate of {i}, the RMSE is {RMSE}')"
   ]
  },
  {
   "cell_type": "code",
   "execution_count": 46,
   "id": "b2f519d4",
   "metadata": {},
   "outputs": [],
   "source": [
    "scores_df = pd.DataFrame(scores, columns=['learning_rate', 'num_trees', 'RMSE'])"
   ]
  },
  {
   "cell_type": "code",
   "execution_count": 47,
   "id": "3989ca62",
   "metadata": {},
   "outputs": [
    {
     "data": {
      "text/html": [
       "<div>\n",
       "<style scoped>\n",
       "    .dataframe tbody tr th:only-of-type {\n",
       "        vertical-align: middle;\n",
       "    }\n",
       "\n",
       "    .dataframe tbody tr th {\n",
       "        vertical-align: top;\n",
       "    }\n",
       "\n",
       "    .dataframe thead th {\n",
       "        text-align: right;\n",
       "    }\n",
       "</style>\n",
       "<table border=\"1\" class=\"dataframe\">\n",
       "  <thead>\n",
       "    <tr style=\"text-align: right;\">\n",
       "      <th></th>\n",
       "      <th>learning_rate</th>\n",
       "      <th>num_trees</th>\n",
       "      <th>RMSE</th>\n",
       "    </tr>\n",
       "  </thead>\n",
       "  <tbody>\n",
       "    <tr>\n",
       "      <th>0</th>\n",
       "      <td>0.3</td>\n",
       "      <td>0</td>\n",
       "      <td>11.608130</td>\n",
       "    </tr>\n",
       "    <tr>\n",
       "      <th>1</th>\n",
       "      <td>0.3</td>\n",
       "      <td>1</td>\n",
       "      <td>8.132445</td>\n",
       "    </tr>\n",
       "    <tr>\n",
       "      <th>2</th>\n",
       "      <td>0.3</td>\n",
       "      <td>2</td>\n",
       "      <td>5.700689</td>\n",
       "    </tr>\n",
       "    <tr>\n",
       "      <th>3</th>\n",
       "      <td>0.3</td>\n",
       "      <td>3</td>\n",
       "      <td>4.000399</td>\n",
       "    </tr>\n",
       "    <tr>\n",
       "      <th>4</th>\n",
       "      <td>0.3</td>\n",
       "      <td>4</td>\n",
       "      <td>2.810775</td>\n",
       "    </tr>\n",
       "  </tbody>\n",
       "</table>\n",
       "</div>"
      ],
      "text/plain": [
       "   learning_rate  num_trees       RMSE\n",
       "0            0.3          0  11.608130\n",
       "1            0.3          1   8.132445\n",
       "2            0.3          2   5.700689\n",
       "3            0.3          3   4.000399\n",
       "4            0.3          4   2.810775"
      ]
     },
     "execution_count": 47,
     "metadata": {},
     "output_type": "execute_result"
    }
   ],
   "source": [
    "scores_df.head()"
   ]
  },
  {
   "cell_type": "code",
   "execution_count": 48,
   "id": "1859a098",
   "metadata": {},
   "outputs": [
    {
     "data": {
      "image/png": "[encoded data removed]",
      "text/plain": [
       "<Figure size 1080x576 with 1 Axes>"
      ]
     },
     "metadata": {
      "needs_background": "light"
     },
     "output_type": "display_data"
    }
   ],
   "source": [
    "plt.figure(figsize=(15,8))\n",
    "for i in [0.3, 0.1, 0.5, 0.7, 1.0, 0.01, 0.001]:\n",
    "    subset = scores_df[scores_df.learning_rate == i]\n",
    "    plt.plot(subset.num_trees, subset.RMSE, label = f'learning_rate = {i}')\n",
    "        \n",
    "#     plt.ylim(0.00, 0.1)\n",
    "plt.legend(loc = 'upper right')\n",
    "plt.show()"
   ]
  },
  {
   "cell_type": "code",
   "execution_count": 49,
   "id": "43da91ef",
   "metadata": {},
   "outputs": [
    {
     "data": {
      "text/html": [
       "<div>\n",
       "<style scoped>\n",
       "    .dataframe tbody tr th:only-of-type {\n",
       "        vertical-align: middle;\n",
       "    }\n",
       "\n",
       "    .dataframe tbody tr th {\n",
       "        vertical-align: top;\n",
       "    }\n",
       "\n",
       "    .dataframe thead th {\n",
       "        text-align: right;\n",
       "    }\n",
       "</style>\n",
       "<table border=\"1\" class=\"dataframe\">\n",
       "  <thead>\n",
       "    <tr style=\"text-align: right;\">\n",
       "      <th></th>\n",
       "      <th>learning_rate</th>\n",
       "      <th>num_trees</th>\n",
       "      <th>RMSE</th>\n",
       "    </tr>\n",
       "  </thead>\n",
       "  <tbody>\n",
       "    <tr>\n",
       "      <th>99</th>\n",
       "      <td>0.3</td>\n",
       "      <td>99</td>\n",
       "      <td>0.22755</td>\n",
       "    </tr>\n",
       "  </tbody>\n",
       "</table>\n",
       "</div>"
      ],
      "text/plain": [
       "    learning_rate  num_trees     RMSE\n",
       "99            0.3         99  0.22755"
      ]
     },
     "execution_count": 49,
     "metadata": {},
     "output_type": "execute_result"
    }
   ],
   "source": [
    "scores_df[scores_df['RMSE'] == scores_df['RMSE'].min()]"
   ]
  },
  {
   "cell_type": "code",
   "execution_count": 57,
   "id": "728a38a9",
   "metadata": {},
   "outputs": [
    {
     "name": "stdout",
     "output_type": "stream",
     "text": [
      "[0]\ttrain-rmse:8.12733\tval-rmse:8.13244\n",
      "[1]\ttrain-rmse:5.69586\tval-rmse:5.70069\n",
      "[2]\ttrain-rmse:3.99539\tval-rmse:4.00040\n",
      "[3]\ttrain-rmse:2.80712\tval-rmse:2.81078\n",
      "[4]\ttrain-rmse:1.97834\tval-rmse:1.98174\n",
      "[5]\ttrain-rmse:1.40218\tval-rmse:1.40740\n",
      "[6]\ttrain-rmse:1.00099\tval-rmse:1.00696\n",
      "[7]\ttrain-rmse:0.72751\tval-rmse:0.73437\n",
      "[8]\ttrain-rmse:0.54190\tval-rmse:0.55046\n",
      "[9]\ttrain-rmse:0.42167\tval-rmse:0.43240\n",
      "[10]\ttrain-rmse:0.34481\tval-rmse:0.35789\n",
      "[11]\ttrain-rmse:0.29835\tval-rmse:0.31366\n",
      "[12]\ttrain-rmse:0.27101\tval-rmse:0.28884\n",
      "[13]\ttrain-rmse:0.25275\tval-rmse:0.27349\n",
      "[14]\ttrain-rmse:0.24302\tval-rmse:0.26630\n",
      "[15]\ttrain-rmse:0.23575\tval-rmse:0.26103\n",
      "[16]\ttrain-rmse:0.23035\tval-rmse:0.25693\n",
      "[17]\ttrain-rmse:0.22594\tval-rmse:0.25382\n",
      "[18]\ttrain-rmse:0.22137\tval-rmse:0.24953\n",
      "[19]\ttrain-rmse:0.21743\tval-rmse:0.24654\n",
      "[20]\ttrain-rmse:0.21461\tval-rmse:0.24488\n",
      "[21]\ttrain-rmse:0.21240\tval-rmse:0.24418\n",
      "[22]\ttrain-rmse:0.21152\tval-rmse:0.24374\n",
      "[23]\ttrain-rmse:0.20834\tval-rmse:0.24247\n",
      "[24]\ttrain-rmse:0.20580\tval-rmse:0.24107\n",
      "[25]\ttrain-rmse:0.20356\tval-rmse:0.23994\n",
      "[26]\ttrain-rmse:0.20227\tval-rmse:0.23984\n",
      "[27]\ttrain-rmse:0.19993\tval-rmse:0.23867\n",
      "[28]\ttrain-rmse:0.19717\tval-rmse:0.23683\n",
      "[29]\ttrain-rmse:0.19599\tval-rmse:0.23669\n",
      "[30]\ttrain-rmse:0.19462\tval-rmse:0.23656\n",
      "[31]\ttrain-rmse:0.19317\tval-rmse:0.23676\n",
      "[32]\ttrain-rmse:0.19132\tval-rmse:0.23612\n",
      "[33]\ttrain-rmse:0.18956\tval-rmse:0.23505\n",
      "[34]\ttrain-rmse:0.18731\tval-rmse:0.23517\n",
      "[35]\ttrain-rmse:0.18687\tval-rmse:0.23511\n",
      "[36]\ttrain-rmse:0.18539\tval-rmse:0.23416\n",
      "[37]\ttrain-rmse:0.18399\tval-rmse:0.23365\n",
      "[38]\ttrain-rmse:0.18247\tval-rmse:0.23365\n",
      "[39]\ttrain-rmse:0.18158\tval-rmse:0.23345\n",
      "[40]\ttrain-rmse:0.18073\tval-rmse:0.23331\n",
      "[41]\ttrain-rmse:0.17922\tval-rmse:0.23316\n",
      "[42]\ttrain-rmse:0.17856\tval-rmse:0.23311\n",
      "[43]\ttrain-rmse:0.17774\tval-rmse:0.23311\n",
      "[44]\ttrain-rmse:0.17689\tval-rmse:0.23311\n",
      "[45]\ttrain-rmse:0.17626\tval-rmse:0.23291\n",
      "[46]\ttrain-rmse:0.17561\tval-rmse:0.23238\n",
      "[47]\ttrain-rmse:0.17486\tval-rmse:0.23227\n",
      "[48]\ttrain-rmse:0.17373\tval-rmse:0.23235\n",
      "[49]\ttrain-rmse:0.17250\tval-rmse:0.23216\n",
      "[50]\ttrain-rmse:0.17133\tval-rmse:0.23224\n",
      "[51]\ttrain-rmse:0.16985\tval-rmse:0.23188\n",
      "[52]\ttrain-rmse:0.16813\tval-rmse:0.23150\n",
      "[53]\ttrain-rmse:0.16732\tval-rmse:0.23148\n",
      "[54]\ttrain-rmse:0.16609\tval-rmse:0.23103\n",
      "[55]\ttrain-rmse:0.16535\tval-rmse:0.23100\n",
      "[56]\ttrain-rmse:0.16459\tval-rmse:0.23089\n",
      "[57]\ttrain-rmse:0.16395\tval-rmse:0.23064\n",
      "[58]\ttrain-rmse:0.16274\tval-rmse:0.23086\n",
      "[59]\ttrain-rmse:0.16107\tval-rmse:0.23045\n",
      "[60]\ttrain-rmse:0.16016\tval-rmse:0.23035\n",
      "[61]\ttrain-rmse:0.15957\tval-rmse:0.23039\n",
      "[62]\ttrain-rmse:0.15890\tval-rmse:0.23027\n",
      "[63]\ttrain-rmse:0.15815\tval-rmse:0.23018\n",
      "[64]\ttrain-rmse:0.15705\tval-rmse:0.22982\n",
      "[65]\ttrain-rmse:0.15691\tval-rmse:0.22991\n",
      "[66]\ttrain-rmse:0.15622\tval-rmse:0.22980\n",
      "[67]\ttrain-rmse:0.15543\tval-rmse:0.22974\n",
      "[68]\ttrain-rmse:0.15511\tval-rmse:0.22982\n",
      "[69]\ttrain-rmse:0.15426\tval-rmse:0.23008\n",
      "[70]\ttrain-rmse:0.15374\tval-rmse:0.23009\n",
      "[71]\ttrain-rmse:0.15321\tval-rmse:0.22994\n",
      "[72]\ttrain-rmse:0.15260\tval-rmse:0.22973\n",
      "[73]\ttrain-rmse:0.15203\tval-rmse:0.22966\n",
      "[74]\ttrain-rmse:0.15182\tval-rmse:0.22963\n",
      "[75]\ttrain-rmse:0.15076\tval-rmse:0.22918\n",
      "[76]\ttrain-rmse:0.15020\tval-rmse:0.22903\n",
      "[77]\ttrain-rmse:0.14947\tval-rmse:0.22909\n",
      "[78]\ttrain-rmse:0.14890\tval-rmse:0.22907\n",
      "[79]\ttrain-rmse:0.14813\tval-rmse:0.22903\n",
      "[80]\ttrain-rmse:0.14708\tval-rmse:0.22850\n",
      "[81]\ttrain-rmse:0.14676\tval-rmse:0.22836\n",
      "[82]\ttrain-rmse:0.14653\tval-rmse:0.22838\n",
      "[83]\ttrain-rmse:0.14599\tval-rmse:0.22840\n",
      "[84]\ttrain-rmse:0.14486\tval-rmse:0.22853\n",
      "[85]\ttrain-rmse:0.14429\tval-rmse:0.22855\n",
      "[86]\ttrain-rmse:0.14303\tval-rmse:0.22846\n",
      "[87]\ttrain-rmse:0.14235\tval-rmse:0.22828\n",
      "[88]\ttrain-rmse:0.14186\tval-rmse:0.22849\n",
      "[89]\ttrain-rmse:0.14079\tval-rmse:0.22817\n",
      "[90]\ttrain-rmse:0.14010\tval-rmse:0.22804\n",
      "[91]\ttrain-rmse:0.13963\tval-rmse:0.22778\n",
      "[92]\ttrain-rmse:0.13938\tval-rmse:0.22793\n",
      "[93]\ttrain-rmse:0.13895\tval-rmse:0.22788\n",
      "[94]\ttrain-rmse:0.13816\tval-rmse:0.22771\n",
      "[95]\ttrain-rmse:0.13773\tval-rmse:0.22772\n",
      "[96]\ttrain-rmse:0.13688\tval-rmse:0.22762\n",
      "[97]\ttrain-rmse:0.13642\tval-rmse:0.22759\n",
      "[98]\ttrain-rmse:0.13593\tval-rmse:0.22755\n",
      "[99]\ttrain-rmse:0.13522\tval-rmse:0.22733\n",
      "[100]\ttrain-rmse:0.13456\tval-rmse:0.22742\n",
      "[101]\ttrain-rmse:0.13431\tval-rmse:0.22750\n",
      "[102]\ttrain-rmse:0.13376\tval-rmse:0.22762\n",
      "[103]\ttrain-rmse:0.13315\tval-rmse:0.22765\n",
      "[104]\ttrain-rmse:0.13230\tval-rmse:0.22751\n",
      "[105]\ttrain-rmse:0.13140\tval-rmse:0.22742\n",
      "[106]\ttrain-rmse:0.13077\tval-rmse:0.22741\n",
      "[107]\ttrain-rmse:0.13011\tval-rmse:0.22739\n",
      "[108]\ttrain-rmse:0.12953\tval-rmse:0.22735\n",
      "[109]\ttrain-rmse:0.12913\tval-rmse:0.22726\n",
      "[110]\ttrain-rmse:0.12853\tval-rmse:0.22744\n",
      "[111]\ttrain-rmse:0.12798\tval-rmse:0.22710\n",
      "[112]\ttrain-rmse:0.12761\tval-rmse:0.22703\n",
      "[113]\ttrain-rmse:0.12695\tval-rmse:0.22701\n",
      "[114]\ttrain-rmse:0.12646\tval-rmse:0.22703\n",
      "[115]\ttrain-rmse:0.12588\tval-rmse:0.22709\n",
      "[116]\ttrain-rmse:0.12553\tval-rmse:0.22705\n",
      "[117]\ttrain-rmse:0.12525\tval-rmse:0.22695\n",
      "[118]\ttrain-rmse:0.12478\tval-rmse:0.22694\n",
      "[119]\ttrain-rmse:0.12459\tval-rmse:0.22688\n",
      "[120]\ttrain-rmse:0.12425\tval-rmse:0.22673\n",
      "[121]\ttrain-rmse:0.12386\tval-rmse:0.22675\n",
      "[122]\ttrain-rmse:0.12349\tval-rmse:0.22661\n",
      "[123]\ttrain-rmse:0.12321\tval-rmse:0.22652\n",
      "[124]\ttrain-rmse:0.12286\tval-rmse:0.22647\n",
      "[125]\ttrain-rmse:0.12234\tval-rmse:0.22645\n",
      "[126]\ttrain-rmse:0.12193\tval-rmse:0.22630\n",
      "[127]\ttrain-rmse:0.12170\tval-rmse:0.22632\n",
      "[128]\ttrain-rmse:0.12118\tval-rmse:0.22604\n",
      "[129]\ttrain-rmse:0.12061\tval-rmse:0.22608\n",
      "[130]\ttrain-rmse:0.11984\tval-rmse:0.22595\n",
      "[131]\ttrain-rmse:0.11964\tval-rmse:0.22595\n",
      "[132]\ttrain-rmse:0.11893\tval-rmse:0.22584\n",
      "[133]\ttrain-rmse:0.11819\tval-rmse:0.22587\n",
      "[134]\ttrain-rmse:0.11769\tval-rmse:0.22588\n",
      "[135]\ttrain-rmse:0.11720\tval-rmse:0.22601\n",
      "[136]\ttrain-rmse:0.11666\tval-rmse:0.22613\n",
      "[137]\ttrain-rmse:0.11647\tval-rmse:0.22614\n",
      "[138]\ttrain-rmse:0.11601\tval-rmse:0.22608\n",
      "[139]\ttrain-rmse:0.11562\tval-rmse:0.22589\n",
      "[140]\ttrain-rmse:0.11472\tval-rmse:0.22590\n",
      "[141]\ttrain-rmse:0.11429\tval-rmse:0.22578\n",
      "[142]\ttrain-rmse:0.11400\tval-rmse:0.22586\n",
      "[143]\ttrain-rmse:0.11334\tval-rmse:0.22579\n",
      "[144]\ttrain-rmse:0.11300\tval-rmse:0.22591\n",
      "[145]\ttrain-rmse:0.11251\tval-rmse:0.22572\n",
      "[146]\ttrain-rmse:0.11186\tval-rmse:0.22565\n",
      "[147]\ttrain-rmse:0.11153\tval-rmse:0.22564\n",
      "[148]\ttrain-rmse:0.11073\tval-rmse:0.22553\n",
      "[149]\ttrain-rmse:0.11038\tval-rmse:0.22563\n",
      "[150]\ttrain-rmse:0.10959\tval-rmse:0.22561\n",
      "[151]\ttrain-rmse:0.10911\tval-rmse:0.22565\n",
      "[152]\ttrain-rmse:0.10893\tval-rmse:0.22560\n",
      "[153]\ttrain-rmse:0.10839\tval-rmse:0.22557\n",
      "[154]\ttrain-rmse:0.10790\tval-rmse:0.22560\n",
      "[155]\ttrain-rmse:0.10734\tval-rmse:0.22566\n",
      "[156]\ttrain-rmse:0.10697\tval-rmse:0.22570\n",
      "[157]\ttrain-rmse:0.10641\tval-rmse:0.22579\n",
      "[158]\ttrain-rmse:0.10619\tval-rmse:0.22576\n",
      "[159]\ttrain-rmse:0.10607\tval-rmse:0.22575\n",
      "[160]\ttrain-rmse:0.10595\tval-rmse:0.22576\n",
      "[161]\ttrain-rmse:0.10580\tval-rmse:0.22577\n",
      "[162]\ttrain-rmse:0.10552\tval-rmse:0.22590\n",
      "[163]\ttrain-rmse:0.10544\tval-rmse:0.22593\n",
      "[164]\ttrain-rmse:0.10533\tval-rmse:0.22595\n",
      "[165]\ttrain-rmse:0.10518\tval-rmse:0.22587\n",
      "[166]\ttrain-rmse:0.10484\tval-rmse:0.22593\n",
      "[167]\ttrain-rmse:0.10452\tval-rmse:0.22594\n",
      "[168]\ttrain-rmse:0.10429\tval-rmse:0.22600\n",
      "[169]\ttrain-rmse:0.10387\tval-rmse:0.22603\n",
      "[170]\ttrain-rmse:0.10352\tval-rmse:0.22603\n",
      "[171]\ttrain-rmse:0.10334\tval-rmse:0.22599\n",
      "[172]\ttrain-rmse:0.10268\tval-rmse:0.22584\n",
      "[173]\ttrain-rmse:0.10242\tval-rmse:0.22585\n",
      "[174]\ttrain-rmse:0.10202\tval-rmse:0.22586\n",
      "[175]\ttrain-rmse:0.10183\tval-rmse:0.22579\n",
      "[176]\ttrain-rmse:0.10146\tval-rmse:0.22580\n",
      "[177]\ttrain-rmse:0.10116\tval-rmse:0.22580\n",
      "[178]\ttrain-rmse:0.10082\tval-rmse:0.22576\n",
      "[179]\ttrain-rmse:0.10047\tval-rmse:0.22579\n",
      "[180]\ttrain-rmse:0.10022\tval-rmse:0.22571\n",
      "[181]\ttrain-rmse:0.10008\tval-rmse:0.22568\n",
      "[182]\ttrain-rmse:0.09968\tval-rmse:0.22555\n",
      "[183]\ttrain-rmse:0.09929\tval-rmse:0.22558\n",
      "[184]\ttrain-rmse:0.09912\tval-rmse:0.22560\n",
      "[185]\ttrain-rmse:0.09900\tval-rmse:0.22554\n",
      "[186]\ttrain-rmse:0.09862\tval-rmse:0.22572\n",
      "[187]\ttrain-rmse:0.09828\tval-rmse:0.22584\n",
      "[188]\ttrain-rmse:0.09794\tval-rmse:0.22577\n",
      "[189]\ttrain-rmse:0.09772\tval-rmse:0.22575\n",
      "[190]\ttrain-rmse:0.09752\tval-rmse:0.22576\n",
      "[191]\ttrain-rmse:0.09708\tval-rmse:0.22566\n",
      "[192]\ttrain-rmse:0.09675\tval-rmse:0.22570\n",
      "[193]\ttrain-rmse:0.09643\tval-rmse:0.22573\n",
      "[194]\ttrain-rmse:0.09637\tval-rmse:0.22569\n",
      "[195]\ttrain-rmse:0.09612\tval-rmse:0.22560\n",
      "[196]\ttrain-rmse:0.09547\tval-rmse:0.22566\n",
      "[197]\ttrain-rmse:0.09502\tval-rmse:0.22575\n"
     ]
    },
    {
     "name": "stdout",
     "output_type": "stream",
     "text": [
      "[198]\ttrain-rmse:0.09450\tval-rmse:0.22566\n",
      "[199]\ttrain-rmse:0.09422\tval-rmse:0.22570\n"
     ]
    }
   ],
   "source": [
    "watchlist = [ (dtrain, 'train'), (dval, 'val')]\n",
    "xgb_params = {\n",
    "            'eta': 0.3, \n",
    "            'max_depth': 6,\n",
    "            'min_child_weight': 1,\n",
    "\n",
    "            'objective': 'reg:squarederror',\n",
    "            'nthread': 8,\n",
    "\n",
    "            'seed': 1,\n",
    "            'verbosity': 1,\n",
    "        }\n",
    "xgb_model_ = xgb.train(xgb_params, dtrain, num_boost_round=200, evals=watchlist) \n"
   ]
  },
  {
   "cell_type": "code",
   "execution_count": null,
   "id": "2c018d56",
   "metadata": {},
   "outputs": [],
   "source": []
  }
 ],
 "metadata": {
  "kernelspec": {
   "display_name": "Python 3 (ipykernel)",
   "language": "python",
   "name": "python3"
  },
  "language_info": {
   "codemirror_mode": {
    "name": "ipython",
    "version": 3
   },
   "file_extension": ".py",
   "mimetype": "text/x-python",
   "name": "python",
   "nbconvert_exporter": "python",
   "pygments_lexer": "ipython3",
   "version": "3.9.12"
  }
 },
 "nbformat": 4,
 "nbformat_minor": 5
}
