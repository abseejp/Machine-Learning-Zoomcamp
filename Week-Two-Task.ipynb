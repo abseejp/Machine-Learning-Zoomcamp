{
 "cells": [
  {
   "cell_type": "markdown",
   "id": "a439e13c-47c3-4e30-81a0-37dba3d83feb",
   "metadata": {},
   "source": [
    "#### Import Libraries"
   ]
  },
  {
   "cell_type": "code",
   "execution_count": 1,
   "id": "b2482b9b-0d1a-4199-be85-1250f277a15c",
   "metadata": {},
   "outputs": [],
   "source": [
    "import pandas as pd\n",
    "import numpy as np\n",
    "import matplotlib.pyplot as plt\n",
    "import seaborn as sns"
   ]
  },
  {
   "cell_type": "markdown",
   "id": "fa974998-2b38-4ad9-abc5-1ffb746d7827",
   "metadata": {},
   "source": [
    "#### Read in data"
   ]
  },
  {
   "cell_type": "code",
   "execution_count": 2,
   "id": "0013eba9-59b3-4ae4-ad2e-ae424f669923",
   "metadata": {},
   "outputs": [],
   "source": [
    "data = pd.read_csv(\"https://raw.githubusercontent.com/alexeygrigorev/datasets/master/housing.csv\")"
   ]
  },
  {
   "cell_type": "code",
   "execution_count": 3,
   "id": "5f02fdce-88e2-4992-bc25-6bbc74485a1a",
   "metadata": {},
   "outputs": [
    {
     "data": {
      "text/plain": [
       "(20640, 10)"
      ]
     },
     "execution_count": 3,
     "metadata": {},
     "output_type": "execute_result"
    }
   ],
   "source": [
    "data.shape"
   ]
  },
  {
   "cell_type": "code",
   "execution_count": 4,
   "id": "151647be-b5a0-4926-a4fd-13c6cef4b3d9",
   "metadata": {},
   "outputs": [
    {
     "data": {
      "text/html": [
       "<div>\n",
       "<style scoped>\n",
       "    .dataframe tbody tr th:only-of-type {\n",
       "        vertical-align: middle;\n",
       "    }\n",
       "\n",
       "    .dataframe tbody tr th {\n",
       "        vertical-align: top;\n",
       "    }\n",
       "\n",
       "    .dataframe thead th {\n",
       "        text-align: right;\n",
       "    }\n",
       "</style>\n",
       "<table border=\"1\" class=\"dataframe\">\n",
       "  <thead>\n",
       "    <tr style=\"text-align: right;\">\n",
       "      <th></th>\n",
       "      <th>longitude</th>\n",
       "      <th>latitude</th>\n",
       "      <th>housing_median_age</th>\n",
       "      <th>total_rooms</th>\n",
       "      <th>total_bedrooms</th>\n",
       "      <th>population</th>\n",
       "      <th>households</th>\n",
       "      <th>median_income</th>\n",
       "      <th>median_house_value</th>\n",
       "      <th>ocean_proximity</th>\n",
       "    </tr>\n",
       "  </thead>\n",
       "  <tbody>\n",
       "    <tr>\n",
       "      <th>0</th>\n",
       "      <td>-122.23</td>\n",
       "      <td>37.88</td>\n",
       "      <td>41.0</td>\n",
       "      <td>880.0</td>\n",
       "      <td>129.0</td>\n",
       "      <td>322.0</td>\n",
       "      <td>126.0</td>\n",
       "      <td>8.3252</td>\n",
       "      <td>452600.0</td>\n",
       "      <td>NEAR BAY</td>\n",
       "    </tr>\n",
       "    <tr>\n",
       "      <th>1</th>\n",
       "      <td>-122.22</td>\n",
       "      <td>37.86</td>\n",
       "      <td>21.0</td>\n",
       "      <td>7099.0</td>\n",
       "      <td>1106.0</td>\n",
       "      <td>2401.0</td>\n",
       "      <td>1138.0</td>\n",
       "      <td>8.3014</td>\n",
       "      <td>358500.0</td>\n",
       "      <td>NEAR BAY</td>\n",
       "    </tr>\n",
       "    <tr>\n",
       "      <th>2</th>\n",
       "      <td>-122.24</td>\n",
       "      <td>37.85</td>\n",
       "      <td>52.0</td>\n",
       "      <td>1467.0</td>\n",
       "      <td>190.0</td>\n",
       "      <td>496.0</td>\n",
       "      <td>177.0</td>\n",
       "      <td>7.2574</td>\n",
       "      <td>352100.0</td>\n",
       "      <td>NEAR BAY</td>\n",
       "    </tr>\n",
       "    <tr>\n",
       "      <th>3</th>\n",
       "      <td>-122.25</td>\n",
       "      <td>37.85</td>\n",
       "      <td>52.0</td>\n",
       "      <td>1274.0</td>\n",
       "      <td>235.0</td>\n",
       "      <td>558.0</td>\n",
       "      <td>219.0</td>\n",
       "      <td>5.6431</td>\n",
       "      <td>341300.0</td>\n",
       "      <td>NEAR BAY</td>\n",
       "    </tr>\n",
       "    <tr>\n",
       "      <th>4</th>\n",
       "      <td>-122.25</td>\n",
       "      <td>37.85</td>\n",
       "      <td>52.0</td>\n",
       "      <td>1627.0</td>\n",
       "      <td>280.0</td>\n",
       "      <td>565.0</td>\n",
       "      <td>259.0</td>\n",
       "      <td>3.8462</td>\n",
       "      <td>342200.0</td>\n",
       "      <td>NEAR BAY</td>\n",
       "    </tr>\n",
       "  </tbody>\n",
       "</table>\n",
       "</div>"
      ],
      "text/plain": [
       "   longitude  latitude  housing_median_age  total_rooms  total_bedrooms  \\\n",
       "0    -122.23     37.88                41.0        880.0           129.0   \n",
       "1    -122.22     37.86                21.0       7099.0          1106.0   \n",
       "2    -122.24     37.85                52.0       1467.0           190.0   \n",
       "3    -122.25     37.85                52.0       1274.0           235.0   \n",
       "4    -122.25     37.85                52.0       1627.0           280.0   \n",
       "\n",
       "   population  households  median_income  median_house_value ocean_proximity  \n",
       "0       322.0       126.0         8.3252            452600.0        NEAR BAY  \n",
       "1      2401.0      1138.0         8.3014            358500.0        NEAR BAY  \n",
       "2       496.0       177.0         7.2574            352100.0        NEAR BAY  \n",
       "3       558.0       219.0         5.6431            341300.0        NEAR BAY  \n",
       "4       565.0       259.0         3.8462            342200.0        NEAR BAY  "
      ]
     },
     "execution_count": 4,
     "metadata": {},
     "output_type": "execute_result"
    }
   ],
   "source": [
    "data.head()"
   ]
  },
  {
   "cell_type": "code",
   "execution_count": 5,
   "id": "37828b84-2cba-4bc2-bdef-dffb7f037dc0",
   "metadata": {},
   "outputs": [
    {
     "data": {
      "image/png": "[encoded data removed]",
      "text/plain": [
       "<Figure size 432x288 with 1 Axes>"
      ]
     },
     "metadata": {
      "needs_background": "light"
     },
     "output_type": "display_data"
    }
   ],
   "source": [
    "plt.hist(data['median_house_value'])\n",
    "plt.show()"
   ]
  },
  {
   "cell_type": "markdown",
   "id": "15b0fefa-7757-43d8-aea2-d282bd675568",
   "metadata": {},
   "source": [
    "### Select Features Specified in Assignment file"
   ]
  },
  {
   "cell_type": "code",
   "execution_count": 6,
   "id": "dbbb5c2d-d8b0-4ecf-ac29-8ad0b1e24a7a",
   "metadata": {},
   "outputs": [],
   "source": [
    "data = data[['latitude', 'longitude', 'housing_median_age', 'total_rooms', 'total_bedrooms', 'population', \n",
    "    'households', 'median_income','median_house_value']]"
   ]
  },
  {
   "cell_type": "markdown",
   "id": "9ae2247d-3872-4689-b7c3-dda9aeafe019",
   "metadata": {},
   "source": [
    "#### Q1: Find a feature with missing values. How many missing values does it have?"
   ]
  },
  {
   "cell_type": "code",
   "execution_count": 7,
   "id": "a8a50325-6abe-4edf-b252-34ef8b8e0326",
   "metadata": {},
   "outputs": [
    {
     "data": {
      "text/plain": [
       "latitude                0\n",
       "longitude               0\n",
       "housing_median_age      0\n",
       "total_rooms             0\n",
       "total_bedrooms        207\n",
       "population              0\n",
       "households              0\n",
       "median_income           0\n",
       "median_house_value      0\n",
       "dtype: int64"
      ]
     },
     "execution_count": 7,
     "metadata": {},
     "output_type": "execute_result"
    }
   ],
   "source": [
    "data.isnull().sum()"
   ]
  },
  {
   "cell_type": "markdown",
   "id": "8af5dc39-90a4-4df9-bbe4-9f0740bd381b",
   "metadata": {},
   "source": [
    "#### Q2: What's the median (50% percentile) for variable 'population'?"
   ]
  },
  {
   "cell_type": "code",
   "execution_count": 8,
   "id": "b21f9a8d-6e71-4750-b8f1-6d294e2da928",
   "metadata": {},
   "outputs": [
    {
     "data": {
      "text/plain": [
       "1166.0"
      ]
     },
     "execution_count": 8,
     "metadata": {},
     "output_type": "execute_result"
    }
   ],
   "source": [
    "data['population'].median()"
   ]
  },
  {
   "cell_type": "markdown",
   "id": "a354494f-86b1-4d24-a507-89161ac5bdef",
   "metadata": {},
   "source": [
    "#### Split the data\n",
    "- Shuffle the initial dataset, use seed 42.\n",
    "- Split your data in train/val/test sets, with 60%/20%/20% distribution.\n",
    "- Make sure that the target value ('median_house_value') is not in your dataframe.\n",
    "- Apply the log transformation to the median_house_value variable using the np.log1p() function."
   ]
  },
  {
   "cell_type": "code",
   "execution_count": 9,
   "id": "a767a0cd",
   "metadata": {},
   "outputs": [],
   "source": [
    "np.random.seed(42)\n",
    "n = len(data)\n",
    "idx = np.arange(n)\n",
    "np.random.shuffle(idx)\n",
    "\n",
    "df = data.iloc[idx]"
   ]
  },
  {
   "cell_type": "code",
   "execution_count": 10,
   "id": "cb961ba4-5154-4eaf-84d3-67b1e35f6a00",
   "metadata": {},
   "outputs": [],
   "source": [
    "df = df.reset_index(drop=True)"
   ]
  },
  {
   "cell_type": "code",
   "execution_count": 11,
   "id": "82839f5b-713d-4182-b671-a2bda5bdc8d4",
   "metadata": {},
   "outputs": [],
   "source": [
    "X = df.drop('median_house_value', axis = 1)\n",
    "y = np.log1p(df['median_house_value'])"
   ]
  },
  {
   "cell_type": "code",
   "execution_count": 12,
   "id": "2bf0f630",
   "metadata": {},
   "outputs": [
    {
     "data": {
      "text/html": [
       "<div>\n",
       "<style scoped>\n",
       "    .dataframe tbody tr th:only-of-type {\n",
       "        vertical-align: middle;\n",
       "    }\n",
       "\n",
       "    .dataframe tbody tr th {\n",
       "        vertical-align: top;\n",
       "    }\n",
       "\n",
       "    .dataframe thead th {\n",
       "        text-align: right;\n",
       "    }\n",
       "</style>\n",
       "<table border=\"1\" class=\"dataframe\">\n",
       "  <thead>\n",
       "    <tr style=\"text-align: right;\">\n",
       "      <th></th>\n",
       "      <th>latitude</th>\n",
       "      <th>longitude</th>\n",
       "      <th>housing_median_age</th>\n",
       "      <th>total_rooms</th>\n",
       "      <th>total_bedrooms</th>\n",
       "      <th>population</th>\n",
       "      <th>households</th>\n",
       "      <th>median_income</th>\n",
       "      <th>median_house_value</th>\n",
       "    </tr>\n",
       "  </thead>\n",
       "  <tbody>\n",
       "    <tr>\n",
       "      <th>0</th>\n",
       "      <td>36.06</td>\n",
       "      <td>-119.01</td>\n",
       "      <td>25.0</td>\n",
       "      <td>1505.0</td>\n",
       "      <td>NaN</td>\n",
       "      <td>1392.0</td>\n",
       "      <td>359.0</td>\n",
       "      <td>1.6812</td>\n",
       "      <td>47700.0</td>\n",
       "    </tr>\n",
       "    <tr>\n",
       "      <th>1</th>\n",
       "      <td>35.14</td>\n",
       "      <td>-119.46</td>\n",
       "      <td>30.0</td>\n",
       "      <td>2943.0</td>\n",
       "      <td>NaN</td>\n",
       "      <td>1565.0</td>\n",
       "      <td>584.0</td>\n",
       "      <td>2.5313</td>\n",
       "      <td>45800.0</td>\n",
       "    </tr>\n",
       "    <tr>\n",
       "      <th>2</th>\n",
       "      <td>37.80</td>\n",
       "      <td>-122.44</td>\n",
       "      <td>52.0</td>\n",
       "      <td>3830.0</td>\n",
       "      <td>NaN</td>\n",
       "      <td>1310.0</td>\n",
       "      <td>963.0</td>\n",
       "      <td>3.4801</td>\n",
       "      <td>500001.0</td>\n",
       "    </tr>\n",
       "    <tr>\n",
       "      <th>3</th>\n",
       "      <td>34.28</td>\n",
       "      <td>-118.72</td>\n",
       "      <td>17.0</td>\n",
       "      <td>3051.0</td>\n",
       "      <td>NaN</td>\n",
       "      <td>1705.0</td>\n",
       "      <td>495.0</td>\n",
       "      <td>5.7376</td>\n",
       "      <td>218600.0</td>\n",
       "    </tr>\n",
       "    <tr>\n",
       "      <th>4</th>\n",
       "      <td>36.62</td>\n",
       "      <td>-121.93</td>\n",
       "      <td>34.0</td>\n",
       "      <td>2351.0</td>\n",
       "      <td>NaN</td>\n",
       "      <td>1063.0</td>\n",
       "      <td>428.0</td>\n",
       "      <td>3.7250</td>\n",
       "      <td>278000.0</td>\n",
       "    </tr>\n",
       "  </tbody>\n",
       "</table>\n",
       "</div>"
      ],
      "text/plain": [
       "   latitude  longitude  housing_median_age  total_rooms  total_bedrooms  \\\n",
       "0     36.06    -119.01                25.0       1505.0             NaN   \n",
       "1     35.14    -119.46                30.0       2943.0             NaN   \n",
       "2     37.80    -122.44                52.0       3830.0             NaN   \n",
       "3     34.28    -118.72                17.0       3051.0             NaN   \n",
       "4     36.62    -121.93                34.0       2351.0             NaN   \n",
       "\n",
       "   population  households  median_income  median_house_value  \n",
       "0      1392.0       359.0         1.6812             47700.0  \n",
       "1      1565.0       584.0         2.5313             45800.0  \n",
       "2      1310.0       963.0         3.4801            500001.0  \n",
       "3      1705.0       495.0         5.7376            218600.0  \n",
       "4      1063.0       428.0         3.7250            278000.0  "
      ]
     },
     "execution_count": 12,
     "metadata": {},
     "output_type": "execute_result"
    }
   ],
   "source": [
    "df.head()"
   ]
  },
  {
   "cell_type": "code",
   "execution_count": 13,
   "id": "32f569c0-7385-4be4-b38d-db3e928121dc",
   "metadata": {},
   "outputs": [
    {
     "data": {
      "text/plain": [
       "20640"
      ]
     },
     "execution_count": 13,
     "metadata": {},
     "output_type": "execute_result"
    }
   ],
   "source": [
    "dataset_length = len(X)\n",
    "dataset_length"
   ]
  },
  {
   "cell_type": "code",
   "execution_count": 14,
   "id": "9f69cc47-38f5-4646-8bdd-d985080f57aa",
   "metadata": {},
   "outputs": [
    {
     "name": "stdout",
     "output_type": "stream",
     "text": [
      "12384, 4128, 4128\n"
     ]
    }
   ],
   "source": [
    "train_size = int(dataset_length * 0.6)\n",
    "val_size = int(dataset_length * 0.2)\n",
    "test_size = dataset_length - train_size - val_size\n",
    "\n",
    "print(f'{train_size}, {val_size}, {test_size}')"
   ]
  },
  {
   "cell_type": "code",
   "execution_count": 15,
   "id": "44f88b30-728a-463f-a635-022b99e2e4cd",
   "metadata": {},
   "outputs": [],
   "source": [
    "X_train, y_train = X.iloc[:train_size], y.iloc[:train_size]\n",
    "X_val, y_val = X.iloc[train_size:(train_size + val_size)], y.iloc[train_size: (train_size + val_size)]\n",
    "X_test, y_test = X.iloc[-test_size:], y.iloc[-test_size:]"
   ]
  },
  {
   "cell_type": "markdown",
   "id": "7623a0b5-e880-40ee-921c-bff3f87f06be",
   "metadata": {},
   "source": [
    "#### Question 3\n",
    "- We need to deal with missing values for the column from Q1.\n",
    "- We have two options: fill it with 0 or with the mean of this variable.\n",
    "- Try both options. For each, train a linear regression model without regularization using the code from the lessons.\n",
    "- For computing the mean, use the training only!\n",
    "- Use the validation dataset to evaluate the models and compare the RMSE of each option.\n",
    "- Round the RMSE scores to 2 decimal digits using round(score, 2)\n",
    "- Which option gives better RMSE?\n"
   ]
  },
  {
   "cell_type": "code",
   "execution_count": 16,
   "id": "afe5ccf3-dfa3-47be-88e5-5f8b025ac8c6",
   "metadata": {},
   "outputs": [],
   "source": [
    "def transform_data(X, filling_technique = 0):\n",
    "    if filling_technique == 0:\n",
    "        x_without_nulls = X.fillna(0)\n",
    "    else:\n",
    "        x_without_nulls = X.fillna(X_train.mean())\n",
    "        \n",
    "    \n",
    "    return x_without_nulls"
   ]
  },
  {
   "cell_type": "code",
   "execution_count": 17,
   "id": "716e5173-f6fa-418c-9e24-b3a2b0b294bb",
   "metadata": {},
   "outputs": [],
   "source": [
    "def train_linear_regression(X, y):\n",
    "    ones = np.ones(X.shape[0]) \n",
    "    X = np.column_stack([ones, X])\n",
    "    \n",
    "    XTX = X.T.dot(X)\n",
    "    XTX_inv = np.linalg.inv(XTX)\n",
    "    w = XTX_inv.dot(X.T).dot(y)\n",
    "    \n",
    "    return w[0], w[1:]"
   ]
  },
  {
   "cell_type": "code",
   "execution_count": 18,
   "id": "249f4cdc-f820-4d4b-906c-119500a0f557",
   "metadata": {},
   "outputs": [],
   "source": [
    "X_train_1 = transform_data(X_train, filling_technique = 0)\n",
    "X_train_1 = X_train_1.values"
   ]
  },
  {
   "cell_type": "code",
   "execution_count": 19,
   "id": "124bb6c3-5909-44fa-bccd-ed10a1d0652b",
   "metadata": {},
   "outputs": [],
   "source": [
    "Wo, W = train_linear_regression(X_train_1, y_train)"
   ]
  },
  {
   "cell_type": "code",
   "execution_count": 20,
   "id": "0080e9dd-9c3c-4ec5-8613-9b8d266816c2",
   "metadata": {},
   "outputs": [],
   "source": [
    "y_pred_1 = Wo + X_train_1.dot(W)"
   ]
  },
  {
   "cell_type": "code",
   "execution_count": 21,
   "id": "1440be79-1cc4-4c46-a651-c2ba7bc6842d",
   "metadata": {},
   "outputs": [
    {
     "data": {
      "image/png": "[encoded data removed]",
      "text/plain": [
       "<Figure size 432x288 with 1 Axes>"
      ]
     },
     "metadata": {
      "needs_background": "light"
     },
     "output_type": "display_data"
    }
   ],
   "source": [
    "plt.figure(figsize=(6, 4))\n",
    "\n",
    "sns.histplot(y_train, label='target', color='#222222', alpha=0.6, bins=40)\n",
    "sns.histplot(y_pred_1, label='prediction', color='#aaaaaa', alpha=0.8, bins=40)\n",
    "\n",
    "plt.legend()\n",
    "\n",
    "plt.ylabel('Frequency')\n",
    "plt.xlabel('Log(Price + 1)')\n",
    "plt.title('Predictions vs actual distribution')\n",
    "\n",
    "plt.show()"
   ]
  },
  {
   "cell_type": "code",
   "execution_count": 22,
   "id": "e196231d-481d-4530-ae99-aca0ff412a34",
   "metadata": {},
   "outputs": [],
   "source": [
    "def calculate_RMSE(target, prediction):\n",
    "    error = target - prediction\n",
    "    mse = (error ** 2).mean()\n",
    "    return np.sqrt(mse)"
   ]
  },
  {
   "cell_type": "code",
   "execution_count": 23,
   "id": "c4558fe8-7e67-4f43-853f-284afbe42619",
   "metadata": {},
   "outputs": [
    {
     "data": {
      "text/plain": [
       "0.34131359101566777"
      ]
     },
     "execution_count": 23,
     "metadata": {},
     "output_type": "execute_result"
    }
   ],
   "source": [
    "calculate_RMSE(y_train, y_pred_1)"
   ]
  },
  {
   "cell_type": "markdown",
   "id": "8894ffda-844a-48a2-a483-2f18c4ee0378",
   "metadata": {},
   "source": [
    "#### Second Model"
   ]
  },
  {
   "cell_type": "code",
   "execution_count": 24,
   "id": "9c77da0a-2b4d-4a67-982e-15871d2a6818",
   "metadata": {},
   "outputs": [],
   "source": [
    "X_train_2 = transform_data(X_train, filling_technique = 1)\n",
    "X_train_2 = X_train_2.values"
   ]
  },
  {
   "cell_type": "code",
   "execution_count": 25,
   "id": "d04d4f97-9f7c-43ae-8ed2-55072dc0003c",
   "metadata": {},
   "outputs": [],
   "source": [
    "Wo, W = train_linear_regression(X_train_2, y_train)"
   ]
  },
  {
   "cell_type": "code",
   "execution_count": 26,
   "id": "fc1338a1-f147-40bc-a071-4ec79cb47763",
   "metadata": {},
   "outputs": [],
   "source": [
    "y_pred_2 = Wo + X_train_2.dot(W)"
   ]
  },
  {
   "cell_type": "code",
   "execution_count": 27,
   "id": "68b1f374-ea63-4238-a8bb-e9a7c5b4794e",
   "metadata": {},
   "outputs": [
    {
     "data": {
      "image/png": "[encoded data removed]",
      "text/plain": [
       "<Figure size 432x288 with 1 Axes>"
      ]
     },
     "metadata": {
      "needs_background": "light"
     },
     "output_type": "display_data"
    }
   ],
   "source": [
    "plt.figure(figsize=(6, 4))\n",
    "\n",
    "sns.histplot(y_train, label='target', color='#222222', alpha=0.6, bins=40)\n",
    "sns.histplot(y_pred_2, label='prediction', color='#aaaaaa', alpha=0.8, bins=40)\n",
    "\n",
    "plt.legend()\n",
    "\n",
    "plt.ylabel('Frequency')\n",
    "plt.xlabel('Log(Price + 1)')\n",
    "plt.title('Predictions vs actual distribution')\n",
    "\n",
    "plt.show()"
   ]
  },
  {
   "cell_type": "code",
   "execution_count": 28,
   "id": "bdc5b05a-160e-46f5-8158-b31eea45a3c6",
   "metadata": {},
   "outputs": [
    {
     "data": {
      "text/plain": [
       "0.3410416181032808"
      ]
     },
     "execution_count": 28,
     "metadata": {},
     "output_type": "execute_result"
    }
   ],
   "source": [
    "calculate_RMSE(y_train, y_pred_2)"
   ]
  },
  {
   "cell_type": "markdown",
   "id": "fab6152a",
   "metadata": {},
   "source": [
    "#### Run model on validation Set - Using fillna of 0"
   ]
  },
  {
   "cell_type": "code",
   "execution_count": 29,
   "id": "8dedce36",
   "metadata": {},
   "outputs": [],
   "source": [
    "X_val_1 = transform_data(X_val, filling_technique = 0)\n",
    "X_val_1 = X_val_1.values"
   ]
  },
  {
   "cell_type": "code",
   "execution_count": 30,
   "id": "7183f0c9",
   "metadata": {},
   "outputs": [],
   "source": [
    "y_pred_2 = Wo + X_val_1.dot(W)"
   ]
  },
  {
   "cell_type": "code",
   "execution_count": 31,
   "id": "2c5cdc7a",
   "metadata": {},
   "outputs": [
    {
     "data": {
      "text/plain": [
       "0.32901954390052734"
      ]
     },
     "execution_count": 31,
     "metadata": {},
     "output_type": "execute_result"
    }
   ],
   "source": [
    "calculate_RMSE(y_val, y_pred_2)"
   ]
  },
  {
   "cell_type": "markdown",
   "id": "e7756f62",
   "metadata": {},
   "source": [
    "#### Run model on validation Set - Using fillna of np.mean"
   ]
  },
  {
   "cell_type": "code",
   "execution_count": 32,
   "id": "2a5b6715",
   "metadata": {},
   "outputs": [],
   "source": [
    "X_val_2 = transform_data(X_val, filling_technique = 1)\n",
    "X_val_2 = X_val_2.values"
   ]
  },
  {
   "cell_type": "code",
   "execution_count": 33,
   "id": "b28ec387",
   "metadata": {},
   "outputs": [],
   "source": [
    "y_pred_2 = Wo + X_val_2.dot(W)"
   ]
  },
  {
   "cell_type": "code",
   "execution_count": 34,
   "id": "b95befb9",
   "metadata": {},
   "outputs": [
    {
     "data": {
      "text/plain": [
       "0.32901954390052734"
      ]
     },
     "execution_count": 34,
     "metadata": {},
     "output_type": "execute_result"
    }
   ],
   "source": [
    "calculate_RMSE(y_val, y_pred_2)"
   ]
  },
  {
   "cell_type": "markdown",
   "id": "a470df96",
   "metadata": {},
   "source": [
    "#### Question 4\n",
    "- Now let's train a regularized linear regression.\n",
    "- For this question, fill the NAs with 0.\n",
    "- Try different values of r from this list: [0, 0.000001, 0.0001, 0.001, 0.01, 0.1, 1, 5, 10].\n",
    "- Use RMSE to evaluate the model on the validation dataset.\n",
    "- Round the RMSE scores to 2 decimal digits.\n",
    "- Which r gives the best RMSE?"
   ]
  },
  {
   "cell_type": "code",
   "execution_count": 35,
   "id": "313f4aeb",
   "metadata": {},
   "outputs": [],
   "source": [
    "def train_linear_regression_reg(X, y, r=0.0):\n",
    "    ones = np.ones(X.shape[0])\n",
    "    X = np.column_stack([ones, X])\n",
    "\n",
    "    XTX = X.T.dot(X)\n",
    "    reg = r * np.eye(XTX.shape[0])\n",
    "    XTX = XTX + reg\n",
    "\n",
    "    XTX_inv = np.linalg.inv(XTX)\n",
    "    w = XTX_inv.dot(X.T).dot(y)\n",
    "    \n",
    "    return w[0], w[1:]"
   ]
  },
  {
   "cell_type": "code",
   "execution_count": 36,
   "id": "0cf8e8ff",
   "metadata": {},
   "outputs": [],
   "source": [
    "def train_linear_regression_reguliarization(X, y, r = 0.0):\n",
    "    ones = np.ones(X.shape[0]) \n",
    "    X = np.column_stack([ones, X])\n",
    "    \n",
    "    XTX = X.T.dot(X)\n",
    "    \n",
    "    regularization = r * np.eye(XTX.shape[0])\n",
    "    XTX = XTX + regularization \n",
    "    \n",
    "    XTX_inv = np.linalg.inv(XTX)\n",
    "    w = XTX_inv.dot(X.T).dot(y)\n",
    "    \n",
    "    return w[0], w[1:]"
   ]
  },
  {
   "cell_type": "code",
   "execution_count": 37,
   "id": "cdc6be26",
   "metadata": {},
   "outputs": [],
   "source": [
    "X_train_3 = transform_data(X_train, filling_technique = 0)\n",
    "X_train_3 = X_train_3.values"
   ]
  },
  {
   "cell_type": "code",
   "execution_count": 38,
   "id": "8204adc5",
   "metadata": {},
   "outputs": [],
   "source": [
    "# Wo, W = train_linear_regression_reguliarization(X_train_3, y_train)\n",
    "# prediction = Wo + X_train_3.dot(W)"
   ]
  },
  {
   "cell_type": "code",
   "execution_count": 39,
   "id": "febb361d",
   "metadata": {},
   "outputs": [
    {
     "name": "stdout",
     "output_type": "stream",
     "text": [
      "Bias term is -11.686975241966874, regularization term is 0 and RMSE is 0.34131359101566777. \n",
      "Bias term is -11.686959175914195, regularization term is 1e-06 and RMSE is 0.34131359101569003. \n",
      "Bias term is -11.685368865172869, regularization term is 0.0001 and RMSE is 0.34131359123782107. \n",
      "Bias term is -11.670931318186465, regularization term is 0.001 and RMSE is 0.34131361317607845. \n",
      "Bias term is -11.52849358554413, regularization term is 0.01 and RMSE is 0.3413157533022957. \n",
      "Bias term is -10.274500281959998, regularization term is 0.1 and RMSE is 0.3414853062864014. \n",
      "Bias term is -4.920480897735361, regularization term is 1 and RMSE is 0.34523279440549726. \n",
      "Bias term is -1.4820957456410375, regularization term is 5 and RMSE is 0.3501642987136565. \n",
      "Bias term is -0.7899311832121201, regularization term is 10 and RMSE is 0.3513878391350608. \n"
     ]
    }
   ],
   "source": [
    "r =  [0, 0.000001, 0.0001, 0.001, 0.01, 0.1, 1, 5, 10]\n",
    "for i in r:\n",
    "    Wo, W = train_linear_regression_reguliarization(X_train_3, y_train, i)\n",
    "    prediction = Wo + X_train_3.dot(W)   \n",
    "    \n",
    "    RMSE = calculate_RMSE(y_train, prediction)\n",
    "    \n",
    "    print(f'Bias term is {Wo}, regularization term is {i} and RMSE is {RMSE}. ')\n",
    "    \n",
    "\n"
   ]
  },
  {
   "cell_type": "markdown",
   "id": "b0fa89bb",
   "metadata": {},
   "source": [
    "#### Question 5\n",
    "- We used seed 42 for splitting the data. Let's find out how selecting the seed influences our score.\n",
    "- Try different seed values: [0, 1, 2, 3, 4, 5, 6, 7, 8, 9].\n",
    "- For each seed, do the train/validation/test split with 60%/20%/20% distribution.\n",
    "- Fill the missing values with 0 and train a model without regularization.\n",
    "- For each seed, evaluate the model on the validation dataset and collect the RMSE scores.\n",
    "- What's the standard deviation of all the scores? To compute the standard deviation, use np.std.\n",
    "- Round the result to 3 decimal digits (round(std, 3))\n"
   ]
  },
  {
   "cell_type": "code",
   "execution_count": 40,
   "id": "4b4ebe1f",
   "metadata": {},
   "outputs": [],
   "source": [
    "def pipeline(df, s):\n",
    "    np.random.seed(s)\n",
    "    \n",
    "    n = len(df)\n",
    "    idx = np.arange(n)\n",
    "    np.random.shuffle(idx)\n",
    "    df = df.iloc[idx]\n",
    "    df = df.reset_index(drop=True)\n",
    "\n",
    "\n",
    "    X = df.drop('median_house_value', axis = 1)\n",
    "    y = np.log1p(df['median_house_value'])\n",
    "    \n",
    "    dataset_length = len(X)\n",
    "\n",
    "    train_size = int(dataset_length * 0.6)\n",
    "    val_size = int(dataset_length * 0.2)\n",
    "    test_size = dataset_length - train_size - val_size\n",
    "\n",
    "\n",
    "    X_train, y_train = X.iloc[:train_size], y.iloc[:train_size]\n",
    "    X_val, y_val = X.iloc[train_size:(train_size + val_size)], y.iloc[train_size: (train_size + val_size)]\n",
    "    X_test, y_test = X.iloc[-test_size:], y.iloc[-test_size:]\n",
    "\n",
    "\n",
    "    X_train = transform_data(X_train, filling_technique = 0)\n",
    "    X_val = transform_data(X_val, filling_technique = 0)\n",
    "    X_test = transform_data(X_test, filling_technique = 0)\n",
    "\n",
    "    Wt, Wt2 = train_linear_regression(X_train, y_train)\n",
    "    \n",
    "    \n",
    "    train_prediction = Wt + X_train.dot(Wt2)  \n",
    "    val_prediction = Wt + X_val.dot(Wt2)\n",
    "    test_prediction = Wt + X_test.dot(Wt2)\n",
    "    \n",
    "    \n",
    "    \n",
    "    train_RMSE = calculate_RMSE(y_train, train_prediction)\n",
    "    val_RMSE = calculate_RMSE(val_prediction, y_val)\n",
    "    test_RMSE = calculate_RMSE(test_prediction, y_test)\n",
    "    \n",
    "\n",
    "    return (s, train_RMSE, val_RMSE, test_RMSE)\n"
   ]
  },
  {
   "cell_type": "code",
   "execution_count": 41,
   "id": "ae3358d8",
   "metadata": {},
   "outputs": [],
   "source": [
    "results = []\n",
    "seed = [0, 1, 2, 3, 4, 5, 6, 7, 8, 9]\n",
    "for s in seed:  \n",
    "    results.append(pipeline(data, s))\n",
    "  "
   ]
  },
  {
   "cell_type": "code",
   "execution_count": 42,
   "id": "3e0c4392",
   "metadata": {},
   "outputs": [
    {
     "data": {
      "text/html": [
       "<div>\n",
       "<style scoped>\n",
       "    .dataframe tbody tr th:only-of-type {\n",
       "        vertical-align: middle;\n",
       "    }\n",
       "\n",
       "    .dataframe tbody tr th {\n",
       "        vertical-align: top;\n",
       "    }\n",
       "\n",
       "    .dataframe thead th {\n",
       "        text-align: right;\n",
       "    }\n",
       "</style>\n",
       "<table border=\"1\" class=\"dataframe\">\n",
       "  <thead>\n",
       "    <tr style=\"text-align: right;\">\n",
       "      <th></th>\n",
       "      <th>seed</th>\n",
       "      <th>train</th>\n",
       "      <th>val</th>\n",
       "      <th>test</th>\n",
       "    </tr>\n",
       "  </thead>\n",
       "  <tbody>\n",
       "    <tr>\n",
       "      <th>0</th>\n",
       "      <td>0</td>\n",
       "      <td>0.342894</td>\n",
       "      <td>0.338843</td>\n",
       "      <td>0.337538</td>\n",
       "    </tr>\n",
       "    <tr>\n",
       "      <th>1</th>\n",
       "      <td>1</td>\n",
       "      <td>0.343475</td>\n",
       "      <td>0.336239</td>\n",
       "      <td>0.337951</td>\n",
       "    </tr>\n",
       "    <tr>\n",
       "      <th>2</th>\n",
       "      <td>2</td>\n",
       "      <td>0.341443</td>\n",
       "      <td>0.332091</td>\n",
       "      <td>0.348225</td>\n",
       "    </tr>\n",
       "    <tr>\n",
       "      <th>3</th>\n",
       "      <td>3</td>\n",
       "      <td>0.342459</td>\n",
       "      <td>0.340515</td>\n",
       "      <td>0.336991</td>\n",
       "    </tr>\n",
       "    <tr>\n",
       "      <th>4</th>\n",
       "      <td>4</td>\n",
       "      <td>0.343187</td>\n",
       "      <td>0.338902</td>\n",
       "      <td>0.336664</td>\n",
       "    </tr>\n",
       "    <tr>\n",
       "      <th>5</th>\n",
       "      <td>5</td>\n",
       "      <td>0.341852</td>\n",
       "      <td>0.343487</td>\n",
       "      <td>0.335755</td>\n",
       "    </tr>\n",
       "    <tr>\n",
       "      <th>6</th>\n",
       "      <td>6</td>\n",
       "      <td>0.339093</td>\n",
       "      <td>0.345198</td>\n",
       "      <td>0.342510</td>\n",
       "    </tr>\n",
       "    <tr>\n",
       "      <th>7</th>\n",
       "      <td>7</td>\n",
       "      <td>0.339919</td>\n",
       "      <td>0.339599</td>\n",
       "      <td>0.346065</td>\n",
       "    </tr>\n",
       "    <tr>\n",
       "      <th>8</th>\n",
       "      <td>8</td>\n",
       "      <td>0.336666</td>\n",
       "      <td>0.346623</td>\n",
       "      <td>0.348358</td>\n",
       "    </tr>\n",
       "    <tr>\n",
       "      <th>9</th>\n",
       "      <td>9</td>\n",
       "      <td>0.340970</td>\n",
       "      <td>0.336593</td>\n",
       "      <td>0.345699</td>\n",
       "    </tr>\n",
       "  </tbody>\n",
       "</table>\n",
       "</div>"
      ],
      "text/plain": [
       "   seed     train       val      test\n",
       "0     0  0.342894  0.338843  0.337538\n",
       "1     1  0.343475  0.336239  0.337951\n",
       "2     2  0.341443  0.332091  0.348225\n",
       "3     3  0.342459  0.340515  0.336991\n",
       "4     4  0.343187  0.338902  0.336664\n",
       "5     5  0.341852  0.343487  0.335755\n",
       "6     6  0.339093  0.345198  0.342510\n",
       "7     7  0.339919  0.339599  0.346065\n",
       "8     8  0.336666  0.346623  0.348358\n",
       "9     9  0.340970  0.336593  0.345699"
      ]
     },
     "execution_count": 42,
     "metadata": {},
     "output_type": "execute_result"
    }
   ],
   "source": [
    "results = pd.DataFrame(results).rename(columns = {0: \"seed\", 1: 'train', 2: \"val\", 3: 'test'})\n",
    "results"
   ]
  },
  {
   "cell_type": "code",
   "execution_count": 43,
   "id": "776fe327",
   "metadata": {},
   "outputs": [
    {
     "data": {
      "text/plain": [
       "train    0.002\n",
       "val      0.004\n",
       "test     0.005\n",
       "dtype: float64"
      ]
     },
     "execution_count": 43,
     "metadata": {},
     "output_type": "execute_result"
    }
   ],
   "source": [
    "round(np.std(results.iloc[:, 1:], axis = 0), 3)"
   ]
  },
  {
   "cell_type": "markdown",
   "id": "b3fe232f",
   "metadata": {},
   "source": [
    "#### Question 6\n",
    "- Split the dataset like previously, use seed 9.\n",
    "- Combine train and validation datasets.\n",
    "- Fill the missing values with 0 and train a model with r=0.001.\n",
    "- What's the RMSE on the test dataset?"
   ]
  },
  {
   "cell_type": "code",
   "execution_count": 44,
   "id": "a3996055",
   "metadata": {},
   "outputs": [],
   "source": [
    "np.random.seed(9)\n",
    "n = len(data)\n",
    "idx = np.arange(n)\n",
    "np.random.shuffle(idx)\n",
    "\n",
    "df = data.iloc[idx]\n",
    "df = df.reset_index(drop=True)"
   ]
  },
  {
   "cell_type": "code",
   "execution_count": 45,
   "id": "56b0ed31",
   "metadata": {},
   "outputs": [],
   "source": [
    "X = df.drop('median_house_value', axis = 1)\n",
    "y = np.log1p(df['median_house_value'])"
   ]
  },
  {
   "cell_type": "code",
   "execution_count": 46,
   "id": "4ca166b0",
   "metadata": {},
   "outputs": [],
   "source": [
    "train_size = int(dataset_length * 0.8)\n",
    "test_size = dataset_length - train_size"
   ]
  },
  {
   "cell_type": "code",
   "execution_count": 47,
   "id": "2fd640c6",
   "metadata": {},
   "outputs": [
    {
     "name": "stdout",
     "output_type": "stream",
     "text": [
      "(16512, 8) (16512,) (4128, 8) (4128,)\n"
     ]
    }
   ],
   "source": [
    "X_train, y_train = X.iloc[:train_size], y.iloc[:train_size]\n",
    "X_test, y_test = X.iloc[-test_size:], y.iloc[-test_size:]\n",
    "print(X_train.shape, y_train.shape, X_test.shape, y_test.shape)"
   ]
  },
  {
   "cell_type": "code",
   "execution_count": 48,
   "id": "cf7cfdd0",
   "metadata": {},
   "outputs": [],
   "source": [
    "X_train_5 = transform_data(X_train, filling_technique = 0)\n",
    "X_train_5 = X_train_5.values\n",
    "Wo, W = train_linear_regression_reguliarization(X_train_5, y_train, r = 0.001)"
   ]
  },
  {
   "cell_type": "code",
   "execution_count": 49,
   "id": "cc5b83aa",
   "metadata": {},
   "outputs": [],
   "source": [
    "X_test_5 = transform_data(X_test, filling_technique = 0)\n",
    "X_test_5 = X_test_5.values\n",
    "\n",
    "test_prediction = Wo + X_test_5.dot(W)"
   ]
  },
  {
   "cell_type": "code",
   "execution_count": 51,
   "id": "aebb4b85",
   "metadata": {},
   "outputs": [
    {
     "data": {
      "text/plain": [
       "0.35"
      ]
     },
     "execution_count": 51,
     "metadata": {},
     "output_type": "execute_result"
    }
   ],
   "source": [
    "np.round(calculate_RMSE(test_prediction, y_test),2)"
   ]
  }
 ],
 "metadata": {
  "kernelspec": {
   "display_name": "Python 3 (ipykernel)",
   "language": "python",
   "name": "python3"
  },
  "language_info": {
   "codemirror_mode": {
    "name": "ipython",
    "version": 3
   },
   "file_extension": ".py",
   "mimetype": "text/x-python",
   "name": "python",
   "nbconvert_exporter": "python",
   "pygments_lexer": "ipython3",
   "version": "3.9.12"
  }
 },
 "nbformat": 4,
 "nbformat_minor": 5
}
